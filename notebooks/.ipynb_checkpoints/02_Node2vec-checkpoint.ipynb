{
 "cells": [
  {
   "cell_type": "markdown",
   "metadata": {},
   "source": [
    "# Running the node2vec Embedding\n",
    "\n",
    "In this notebook we're going to generate graph embeddings using the node2vec algorithm. We'll then explore those embeddings using Python Data Science tools.\n",
    "\n",
    "Let's start by importing some libraries:"
   ]
  },
  {
   "cell_type": "code",
   "execution_count": 1,
   "metadata": {},
   "outputs": [],
   "source": [
    "from neo4j import GraphDatabase\n",
    "from neo4j.exceptions import ClientError\n",
    "from sklearn.manifold import TSNE\n",
    "\n",
    "import numpy as np\n",
    "import altair as alt\n",
    "import pandas as pd\n",
    "import os"
   ]
  },
  {
   "cell_type": "markdown",
   "metadata": {},
   "source": [
    "Once we've done that we can initialise the Neo4j driver."
   ]
  },
  {
   "cell_type": "code",
   "execution_count": 3,
   "metadata": {},
   "outputs": [],
   "source": [
    "bolt_url = os.getenv(\"NEO4J_BOLT_URL\", \"bolt://localhost\")\n",
    "user = os.getenv(\"NEO4J_USER\", \"neo4j\")\n",
    "password = os.getenv(\"NEO4J_PASSWORD\", \"neo\")\n",
    "driver = GraphDatabase.driver(\"bolt://graph-embeddings-neo4j\", auth=(user, password))"
   ]
  },
  {
   "cell_type": "markdown",
   "metadata": {},
   "source": [
    "We should have already imported the dataset. We can run the following query to check that the data has been imported:"
   ]
  },
  {
   "cell_type": "code",
   "execution_count": 4,
   "metadata": {},
   "outputs": [
    {
     "data": {
      "text/html": [
       "<div>\n",
       "<style scoped>\n",
       "    .dataframe tbody tr th:only-of-type {\n",
       "        vertical-align: middle;\n",
       "    }\n",
       "\n",
       "    .dataframe tbody tr th {\n",
       "        vertical-align: top;\n",
       "    }\n",
       "\n",
       "    .dataframe thead th {\n",
       "        text-align: right;\n",
       "    }\n",
       "</style>\n",
       "<table border=\"1\" class=\"dataframe\">\n",
       "  <thead>\n",
       "    <tr style=\"text-align: right;\">\n",
       "      <th></th>\n",
       "      <th>label</th>\n",
       "      <th>count</th>\n",
       "    </tr>\n",
       "  </thead>\n",
       "  <tbody>\n",
       "    <tr>\n",
       "      <th>0</th>\n",
       "      <td>Place</td>\n",
       "      <td>894</td>\n",
       "    </tr>\n",
       "  </tbody>\n",
       "</table>\n",
       "</div>"
      ],
      "text/plain": [
       "   label  count\n",
       "0  Place    894"
      ]
     },
     "metadata": {},
     "output_type": "display_data"
    },
    {
     "data": {
      "text/html": [
       "<div>\n",
       "<style scoped>\n",
       "    .dataframe tbody tr th:only-of-type {\n",
       "        vertical-align: middle;\n",
       "    }\n",
       "\n",
       "    .dataframe tbody tr th {\n",
       "        vertical-align: top;\n",
       "    }\n",
       "\n",
       "    .dataframe thead th {\n",
       "        text-align: right;\n",
       "    }\n",
       "</style>\n",
       "<table border=\"1\" class=\"dataframe\">\n",
       "  <thead>\n",
       "    <tr style=\"text-align: right;\">\n",
       "      <th></th>\n",
       "      <th>relType</th>\n",
       "      <th>count</th>\n",
       "    </tr>\n",
       "  </thead>\n",
       "  <tbody>\n",
       "    <tr>\n",
       "      <th>0</th>\n",
       "      <td>EROAD</td>\n",
       "      <td>1250</td>\n",
       "    </tr>\n",
       "  </tbody>\n",
       "</table>\n",
       "</div>"
      ],
      "text/plain": [
       "  relType  count\n",
       "0   EROAD   1250"
      ]
     },
     "metadata": {},
     "output_type": "display_data"
    }
   ],
   "source": [
    "result = {\"label\": [], \"count\": []}\n",
    "with driver.session(database=\"eroads\") as session:\n",
    "    for row in session.run(\"CALL db.labels()\"):\n",
    "        label = row[\"label\"]\n",
    "        query = f\"MATCH (:`{label}`) RETURN count(*) as count\"\n",
    "        count = session.run(query).single()[\"count\"]\n",
    "        result[\"label\"].append(label)\n",
    "        result[\"count\"].append(count)\n",
    "nodes_df = pd.DataFrame(data=result)\n",
    "nodes_df.sort_values(\"count\")\n",
    "\n",
    "result = {\"relType\": [], \"count\": []}\n",
    "with driver.session(database=\"eroads\") as session:\n",
    "    for row in session.run(\"CALL db.relationshipTypes()\"):\n",
    "        relationship_type = row[\"relationshipType\"]\n",
    "        query = f\"MATCH ()-[:`{relationship_type}`]->() RETURN count(*) as count\"\n",
    "        count = session.run(query).single()[\"count\"]\n",
    "        result[\"relType\"].append(relationship_type)\n",
    "        result[\"count\"].append(count)\n",
    "rels_df = pd.DataFrame(data=result)\n",
    "rels_df.sort_values(\"count\")\n",
    "\n",
    "display(nodes_df)\n",
    "display(rels_df)"
   ]
  },
  {
   "cell_type": "markdown",
   "metadata": {},
   "source": [
    "We should have 894 `Place` nodes and 2,500 `EROAD` relationships.\n",
    "\n",
    "Now let's run some embeddings. We're going to run the streaming version of the node2vec algorithm. We need to define the following config:\n",
    "\n",
    "* `nodeProjection` - the node labels to use for our projected graph\n",
    "* `relationshipProjection` - the relationship types to use for our projected graph\n",
    "* `embeddingSize` - the size of the vector/list of numbers to create for each node\n",
    "* `iterations` - the number of iterations to run\n",
    "\n",
    "Let's give it a try:"
   ]
  },
  {
   "cell_type": "code",
   "execution_count": 8,
   "metadata": {},
   "outputs": [
    {
     "data": {
      "text/html": [
       "<div>\n",
       "<style scoped>\n",
       "    .dataframe tbody tr th:only-of-type {\n",
       "        vertical-align: middle;\n",
       "    }\n",
       "\n",
       "    .dataframe tbody tr th {\n",
       "        vertical-align: top;\n",
       "    }\n",
       "\n",
       "    .dataframe thead th {\n",
       "        text-align: right;\n",
       "    }\n",
       "</style>\n",
       "<table border=\"1\" class=\"dataframe\">\n",
       "  <thead>\n",
       "    <tr style=\"text-align: right;\">\n",
       "      <th></th>\n",
       "      <th>embedding</th>\n",
       "      <th>place</th>\n",
       "    </tr>\n",
       "  </thead>\n",
       "  <tbody>\n",
       "    <tr>\n",
       "      <th>0</th>\n",
       "      <td>[-1.0241117477416992, -0.09616520255804062, 3....</td>\n",
       "      <td>Larne</td>\n",
       "    </tr>\n",
       "    <tr>\n",
       "      <th>1</th>\n",
       "      <td>[-1.19605553150177, -0.4890177547931671, 3.287...</td>\n",
       "      <td>Belfast</td>\n",
       "    </tr>\n",
       "    <tr>\n",
       "      <th>2</th>\n",
       "      <td>[-1.7883660793304443, -0.9587492942810059, 2.3...</td>\n",
       "      <td>Dublin</td>\n",
       "    </tr>\n",
       "    <tr>\n",
       "      <th>3</th>\n",
       "      <td>[-2.3579163551330566, -1.1036665439605713, 2.7...</td>\n",
       "      <td>Wexford</td>\n",
       "    </tr>\n",
       "    <tr>\n",
       "      <th>4</th>\n",
       "      <td>[-2.9394874572753906, -0.9884549975395203, 2.7...</td>\n",
       "      <td>Rosslare</td>\n",
       "    </tr>\n",
       "  </tbody>\n",
       "</table>\n",
       "</div>"
      ],
      "text/plain": [
       "                                           embedding     place\n",
       "0  [-1.0241117477416992, -0.09616520255804062, 3....     Larne\n",
       "1  [-1.19605553150177, -0.4890177547931671, 3.287...   Belfast\n",
       "2  [-1.7883660793304443, -0.9587492942810059, 2.3...    Dublin\n",
       "3  [-2.3579163551330566, -1.1036665439605713, 2.7...   Wexford\n",
       "4  [-2.9394874572753906, -0.9884549975395203, 2.7...  Rosslare"
      ]
     },
     "execution_count": 8,
     "metadata": {},
     "output_type": "execute_result"
    }
   ],
   "source": [
    "with driver.session(database=\"neo4j\") as session:\n",
    "    result = session.run(\"\"\"\n",
    "    CALL gds.alpha.node2vec.stream({\n",
    "       nodeProjection: \"Place\",\n",
    "       relationshipProjection: {\n",
    "         eroad: {\n",
    "           type: \"EROAD\",\n",
    "           orientation: \"UNDIRECTED\"\n",
    "        }\n",
    "       },\n",
    "       embeddingSize: 10,\n",
    "       iterations: 10,\n",
    "       walkLength: 10\n",
    "    })\n",
    "    YIELD nodeId, embedding\n",
    "    RETURN gds.util.asNode(nodeId).name AS place, embedding\n",
    "    \"\"\")\n",
    "    \n",
    "    embeddings_df = pd.DataFrame([dict(record) for record in result])\n",
    "embeddings_df.head()"
   ]
  },
  {
   "cell_type": "markdown",
   "metadata": {},
   "source": [
    "So far everything looks good. Let's now store the embeddings in Neo4j, by using the write version of the algorithm:"
   ]
  },
  {
   "cell_type": "code",
   "execution_count": 10,
   "metadata": {},
   "outputs": [
    {
     "data": {
      "text/html": [
       "<div>\n",
       "<style scoped>\n",
       "    .dataframe tbody tr th:only-of-type {\n",
       "        vertical-align: middle;\n",
       "    }\n",
       "\n",
       "    .dataframe tbody tr th {\n",
       "        vertical-align: top;\n",
       "    }\n",
       "\n",
       "    .dataframe thead th {\n",
       "        text-align: right;\n",
       "    }\n",
       "</style>\n",
       "<table border=\"1\" class=\"dataframe\">\n",
       "  <thead>\n",
       "    <tr style=\"text-align: right;\">\n",
       "      <th></th>\n",
       "      <th>computeMillis</th>\n",
       "      <th>configuration</th>\n",
       "      <th>createMillis</th>\n",
       "      <th>nodeCount</th>\n",
       "      <th>nodePropertiesWritten</th>\n",
       "      <th>writeMillis</th>\n",
       "    </tr>\n",
       "  </thead>\n",
       "  <tbody>\n",
       "    <tr>\n",
       "      <th>0</th>\n",
       "      <td>2405</td>\n",
       "      <td>{'initialLearningRate': 0.025, 'writeConcurren...</td>\n",
       "      <td>52</td>\n",
       "      <td>894</td>\n",
       "      <td>894</td>\n",
       "      <td>41</td>\n",
       "    </tr>\n",
       "  </tbody>\n",
       "</table>\n",
       "</div>"
      ],
      "text/plain": [
       "   computeMillis                                      configuration  \\\n",
       "0           2405  {'initialLearningRate': 0.025, 'writeConcurren...   \n",
       "\n",
       "   createMillis  nodeCount  nodePropertiesWritten  writeMillis  \n",
       "0            52        894                    894           41  "
      ]
     },
     "execution_count": 10,
     "metadata": {},
     "output_type": "execute_result"
    }
   ],
   "source": [
    "with driver.session(database=\"neo4j\") as session:\n",
    "    result = session.run(\"\"\"\n",
    "    CALL gds.alpha.node2vec.write({\n",
    "       nodeProjection: \"Place\",\n",
    "       relationshipProjection: {\n",
    "         eroad: {\n",
    "           type: \"EROAD\",\n",
    "           orientation: \"UNDIRECTED\"\n",
    "        }\n",
    "       },\n",
    "       embeddingSize: 10,\n",
    "       iterations: 10,\n",
    "       walkLength: 10,\n",
    "       writeProperty: $embeddingProperty\n",
    "    })\n",
    "    \"\"\", {\"embeddingProperty\": \"embeddingNode2vec\"})\n",
    "    \n",
    "    embeddings_df = pd.DataFrame([dict(record) for record in result])\n",
    "embeddings_df    "
   ]
  },
  {
   "cell_type": "code",
   "execution_count": 27,
   "metadata": {},
   "outputs": [
    {
     "data": {
      "text/html": [
       "<div>\n",
       "<style scoped>\n",
       "    .dataframe tbody tr th:only-of-type {\n",
       "        vertical-align: middle;\n",
       "    }\n",
       "\n",
       "    .dataframe tbody tr th {\n",
       "        vertical-align: top;\n",
       "    }\n",
       "\n",
       "    .dataframe thead th {\n",
       "        text-align: right;\n",
       "    }\n",
       "</style>\n",
       "<table border=\"1\" class=\"dataframe\">\n",
       "  <thead>\n",
       "    <tr style=\"text-align: right;\">\n",
       "      <th></th>\n",
       "      <th>country</th>\n",
       "      <th>embedding</th>\n",
       "      <th>place</th>\n",
       "    </tr>\n",
       "  </thead>\n",
       "  <tbody>\n",
       "    <tr>\n",
       "      <th>0</th>\n",
       "      <td>GB</td>\n",
       "      <td>[0.31507408618927, 2.386936902999878, -1.13895...</td>\n",
       "      <td>Larne</td>\n",
       "    </tr>\n",
       "    <tr>\n",
       "      <th>1</th>\n",
       "      <td>GB</td>\n",
       "      <td>[-0.1721758246421814, 2.413466453552246, -1.18...</td>\n",
       "      <td>Belfast</td>\n",
       "    </tr>\n",
       "    <tr>\n",
       "      <th>2</th>\n",
       "      <td>IRL</td>\n",
       "      <td>[0.03557880222797394, 2.5488579273223877, -1.5...</td>\n",
       "      <td>Dublin</td>\n",
       "    </tr>\n",
       "    <tr>\n",
       "      <th>3</th>\n",
       "      <td>IRL</td>\n",
       "      <td>[0.5374959707260132, 2.663217067718506, -2.345...</td>\n",
       "      <td>Wexford</td>\n",
       "    </tr>\n",
       "    <tr>\n",
       "      <th>4</th>\n",
       "      <td>IRL</td>\n",
       "      <td>[0.7979135513305664, 2.41644287109375, -2.6608...</td>\n",
       "      <td>Rosslare</td>\n",
       "    </tr>\n",
       "  </tbody>\n",
       "</table>\n",
       "</div>"
      ],
      "text/plain": [
       "  country                                          embedding     place\n",
       "0      GB  [0.31507408618927, 2.386936902999878, -1.13895...     Larne\n",
       "1      GB  [-0.1721758246421814, 2.413466453552246, -1.18...   Belfast\n",
       "2     IRL  [0.03557880222797394, 2.5488579273223877, -1.5...    Dublin\n",
       "3     IRL  [0.5374959707260132, 2.663217067718506, -2.345...   Wexford\n",
       "4     IRL  [0.7979135513305664, 2.41644287109375, -2.6608...  Rosslare"
      ]
     },
     "execution_count": 27,
     "metadata": {},
     "output_type": "execute_result"
    }
   ],
   "source": [
    "with driver.session(database=\"neo4j\") as session:\n",
    "    result = session.run(\"\"\"\n",
    "    MATCH (p:Place)-[:IN_COUNTRY]->(country)\n",
    "    //WHERE country.code IN $countries\n",
    "    RETURN p.name AS place, p.embeddingNode2vec AS embedding, country.code AS country\n",
    "    \"\"\", {\"countries\": [\"E\", \"GB\", \"F\", \"TR\", \"\"]})\n",
    "    X = pd.DataFrame([dict(record) for record in result])\n",
    "X.head()    "
   ]
  },
  {
   "cell_type": "code",
   "execution_count": 28,
   "metadata": {},
   "outputs": [
    {
     "data": {
      "text/html": [
       "<div>\n",
       "<style scoped>\n",
       "    .dataframe tbody tr th:only-of-type {\n",
       "        vertical-align: middle;\n",
       "    }\n",
       "\n",
       "    .dataframe tbody tr th {\n",
       "        vertical-align: top;\n",
       "    }\n",
       "\n",
       "    .dataframe thead th {\n",
       "        text-align: right;\n",
       "    }\n",
       "</style>\n",
       "<table border=\"1\" class=\"dataframe\">\n",
       "  <thead>\n",
       "    <tr style=\"text-align: right;\">\n",
       "      <th></th>\n",
       "      <th>place</th>\n",
       "      <th>country</th>\n",
       "      <th>x</th>\n",
       "      <th>y</th>\n",
       "    </tr>\n",
       "  </thead>\n",
       "  <tbody>\n",
       "    <tr>\n",
       "      <th>0</th>\n",
       "      <td>Larne</td>\n",
       "      <td>GB</td>\n",
       "      <td>4.802750</td>\n",
       "      <td>25.165693</td>\n",
       "    </tr>\n",
       "    <tr>\n",
       "      <th>1</th>\n",
       "      <td>Belfast</td>\n",
       "      <td>GB</td>\n",
       "      <td>5.760026</td>\n",
       "      <td>25.301336</td>\n",
       "    </tr>\n",
       "    <tr>\n",
       "      <th>2</th>\n",
       "      <td>Dublin</td>\n",
       "      <td>IRL</td>\n",
       "      <td>8.192203</td>\n",
       "      <td>24.687773</td>\n",
       "    </tr>\n",
       "    <tr>\n",
       "      <th>3</th>\n",
       "      <td>Wexford</td>\n",
       "      <td>IRL</td>\n",
       "      <td>10.304080</td>\n",
       "      <td>23.146782</td>\n",
       "    </tr>\n",
       "    <tr>\n",
       "      <th>4</th>\n",
       "      <td>Rosslare</td>\n",
       "      <td>IRL</td>\n",
       "      <td>11.220578</td>\n",
       "      <td>22.471766</td>\n",
       "    </tr>\n",
       "  </tbody>\n",
       "</table>\n",
       "</div>"
      ],
      "text/plain": [
       "      place country          x          y\n",
       "0     Larne      GB   4.802750  25.165693\n",
       "1   Belfast      GB   5.760026  25.301336\n",
       "2    Dublin     IRL   8.192203  24.687773\n",
       "3   Wexford     IRL  10.304080  23.146782\n",
       "4  Rosslare     IRL  11.220578  22.471766"
      ]
     },
     "execution_count": 28,
     "metadata": {},
     "output_type": "execute_result"
    }
   ],
   "source": [
    "X_embedded = TSNE(n_components=2, random_state=6).fit_transform(list(X.embedding))\n",
    "places = list(X.place)\n",
    "df = pd.DataFrame(data = {\n",
    "    \"place\": places,\n",
    "    \"country\": X.country,\n",
    "    \"x\": [value[0] for value in list(X_embedded)],\n",
    "    \"y\": [value[1] for value in list(X_embedded)]\n",
    "})\n",
    "df.head()"
   ]
  },
  {
   "cell_type": "code",
   "execution_count": 29,
   "metadata": {},
   "outputs": [
    {
     "data": {
      "text/html": [
       "\n",
       "<div id=\"altair-viz-c3c21ddb814b45998251ba13a0405eea\"></div>\n",
       "<script type=\"text/javascript\">\n",
       "  (function(spec, embedOpt){\n",
       "    let outputDiv = document.currentScript.previousElementSibling;\n",
       "    if (outputDiv.id !== \"altair-viz-c3c21ddb814b45998251ba13a0405eea\") {\n",
       "      outputDiv = document.getElementById(\"altair-viz-c3c21ddb814b45998251ba13a0405eea\");\n",
       "    }\n",
       "    const paths = {\n",
       "      \"vega\": \"https://cdn.jsdelivr.net/npm//vega@5?noext\",\n",
       "      \"vega-lib\": \"https://cdn.jsdelivr.net/npm//vega-lib?noext\",\n",
       "      \"vega-lite\": \"https://cdn.jsdelivr.net/npm//vega-lite@4.8.1?noext\",\n",
       "      \"vega-embed\": \"https://cdn.jsdelivr.net/npm//vega-embed@6?noext\",\n",
       "    };\n",
       "\n",
       "    function loadScript(lib) {\n",
       "      return new Promise(function(resolve, reject) {\n",
       "        var s = document.createElement('script');\n",
       "        s.src = paths[lib];\n",
       "        s.async = true;\n",
       "        s.onload = () => resolve(paths[lib]);\n",
       "        s.onerror = () => reject(`Error loading script: ${paths[lib]}`);\n",
       "        document.getElementsByTagName(\"head\")[0].appendChild(s);\n",
       "      });\n",
       "    }\n",
       "\n",
       "    function showError(err) {\n",
       "      outputDiv.innerHTML = `<div class=\"error\" style=\"color:red;\">${err}</div>`;\n",
       "      throw err;\n",
       "    }\n",
       "\n",
       "    function displayChart(vegaEmbed) {\n",
       "      vegaEmbed(outputDiv, spec, embedOpt)\n",
       "        .catch(err => showError(`Javascript Error: ${err.message}<br>This usually means there's a typo in your chart specification. See the javascript console for the full traceback.`));\n",
       "    }\n",
       "\n",
       "    if(typeof define === \"function\" && define.amd) {\n",
       "      requirejs.config({paths});\n",
       "      require([\"vega-embed\"], displayChart, err => showError(`Error loading script: ${err.message}`));\n",
       "    } else if (typeof vegaEmbed === \"function\") {\n",
       "      displayChart(vegaEmbed);\n",
       "    } else {\n",
       "      loadScript(\"vega\")\n",
       "        .then(() => loadScript(\"vega-lite\"))\n",
       "        .then(() => loadScript(\"vega-embed\"))\n",
       "        .catch(showError)\n",
       "        .then(() => displayChart(vegaEmbed));\n",
       "    }\n",
       "  })({\"config\": {\"view\": {\"continuousWidth\": 400, \"continuousHeight\": 300}}, \"data\": {\"name\": \"data-9e28ac5598d4dc9dbf64d2e2aceb8e07\"}, \"mark\": {\"type\": \"circle\", \"size\": 60}, \"encoding\": {\"color\": {\"type\": \"nominal\", \"field\": \"country\"}, \"tooltip\": [{\"type\": \"nominal\", \"field\": \"place\"}, {\"type\": \"nominal\", \"field\": \"country\"}], \"x\": {\"type\": \"quantitative\", \"field\": \"x\"}, \"y\": {\"type\": \"quantitative\", \"field\": \"y\"}}, \"height\": 400, \"width\": 700, \"$schema\": \"https://vega.github.io/schema/vega-lite/v4.8.1.json\", \"datasets\": {\"data-9e28ac5598d4dc9dbf64d2e2aceb8e07\": [{\"place\": \"Larne\", \"country\": \"GB\", \"x\": 4.8027496337890625, \"y\": 25.165693283081055}, {\"place\": \"Belfast\", \"country\": \"GB\", \"x\": 5.760025978088379, \"y\": 25.30133628845215}, {\"place\": \"Dublin\", \"country\": \"IRL\", \"x\": 8.1922025680542, \"y\": 24.687772750854492}, {\"place\": \"Wexford\", \"country\": \"IRL\", \"x\": 10.30408000946045, \"y\": 23.14678192138672}, {\"place\": \"Rosslare\", \"country\": \"IRL\", \"x\": 11.22057819366455, \"y\": 22.471765518188477}, {\"place\": \"La Coru\\u00f1a\", \"country\": \"E\", \"x\": 32.4345703125, \"y\": -22.837810516357422}, {\"place\": \"Pontevedra\", \"country\": \"E\", \"x\": 32.48734664916992, \"y\": -24.624387741088867}, {\"place\": \"Valen\\u00e7a do Minho\", \"country\": \"P\", \"x\": 32.709938049316406, \"y\": -25.517013549804688}, {\"place\": \"Porto\", \"country\": \"P\", \"x\": 33.44709396362305, \"y\": -26.64248275756836}, {\"place\": \"Aveiro\", \"country\": \"P\", \"x\": 37.59101486206055, \"y\": -29.01543426513672}, {\"place\": \"Coimbra\", \"country\": \"P\", \"x\": 38.2508544921875, \"y\": -28.46068572998047}, {\"place\": \"Lisboa\", \"country\": \"P\", \"x\": 39.74266815185547, \"y\": -27.534299850463867}, {\"place\": \"Set\\u00fabal\", \"country\": \"P\", \"x\": 40.44615173339844, \"y\": -26.149208068847656}, {\"place\": \"Faro\", \"country\": \"P\", \"x\": 41.36436462402344, \"y\": -25.20145034790039}, {\"place\": \"Vila Real de Santo Ant\\u00f3nio\", \"country\": \"P\", \"x\": 41.403411865234375, \"y\": -23.61042022705078}, {\"place\": \"Huelva\", \"country\": \"E\", \"x\": 41.038143157958984, \"y\": -21.98162841796875}, {\"place\": \"Cherbourg\", \"country\": \"F\", \"x\": 37.986045837402344, \"y\": -1.8304970264434814}, {\"place\": \"Rennes\", \"country\": \"F\", \"x\": 37.09092712402344, \"y\": -2.321861743927002}, {\"place\": \"Nantes\", \"country\": \"F\", \"x\": 36.896671295166016, \"y\": -3.5987696647644043}, {\"place\": \"Helsingborg\", \"country\": \"S\", \"x\": -6.176050662994385, \"y\": 35.514259338378906}, {\"place\": \"J\\u00f6nk\\u00f6ping\", \"country\": \"S\", \"x\": -7.836766719818115, \"y\": 34.85955810546875}, {\"place\": \"Norrk\\u00f6ping\", \"country\": \"S\", \"x\": -8.82999324798584, \"y\": 34.80106735229492}, {\"place\": \"S\\u00f6dert\\u00e4lje\", \"country\": \"S\", \"x\": -11.455170631408691, \"y\": 29.271259307861328}, {\"place\": \"Stockholm\", \"country\": \"S\", \"x\": -13.118319511413574, \"y\": 27.835718154907227}, {\"place\": \"Sundsvall\", \"country\": \"S\", \"x\": -15.423349380493164, \"y\": 28.4887638092041}, {\"place\": \"Ume\\u00e5\", \"country\": \"S\", \"x\": -17.036603927612305, \"y\": 28.535093307495117}, {\"place\": \"Lule\\u00e5\", \"country\": \"S\", \"x\": -17.99317169189453, \"y\": 29.813364028930664}, {\"place\": \"Haparanda\", \"country\": \"S\", \"x\": -19.435577392578125, \"y\": 29.32880973815918}, {\"place\": \"Tornio\", \"country\": \"FIN\", \"x\": -20.75126838684082, \"y\": 28.99720001220703}, {\"place\": \"Greenock\", \"country\": \"GB\", \"x\": 3.2238802909851074, \"y\": 25.810319900512695}, {\"place\": \"Glasgow\", \"country\": \"GB\", \"x\": 3.62339448928833, \"y\": 26.513227462768555}, {\"place\": \"Gretna\", \"country\": \"GB\", \"x\": 4.802351474761963, \"y\": 27.254898071289062}, {\"place\": \"Carlisle\", \"country\": \"GB\", \"x\": 4.9477458000183105, \"y\": 28.1202449798584}, {\"place\": \"Penrith\", \"country\": \"GB\", \"x\": 6.438385963439941, \"y\": 28.315034866333008}, {\"place\": \"Preston\", \"country\": \"GB\", \"x\": 8.0988130569458, \"y\": 28.50001335144043}, {\"place\": \"Warrington\", \"country\": \"GB\", \"x\": 10.756107330322266, \"y\": 28.372331619262695}, {\"place\": \"Birmingham\", \"country\": \"GB\", \"x\": 11.771245956420898, \"y\": 27.861373901367188}, {\"place\": \"Newbury\", \"country\": \"GB\", \"x\": 30.333023071289062, \"y\": 1.7010737657546997}, {\"place\": \"Southampton\", \"country\": \"GB\", \"x\": 31.00501251220703, \"y\": 1.926586627960205}, {\"place\": \"Le Havre\", \"country\": \"F\", \"x\": 31.837404251098633, \"y\": 2.236452579498291}, {\"place\": \"Paris\", \"country\": \"F\", \"x\": 33.36576461791992, \"y\": 1.7247955799102783}, {\"place\": \"Orl\\u00e9ans\", \"country\": \"F\", \"x\": 34.090572357177734, \"y\": -3.437488317489624}, {\"place\": \"Tours\", \"country\": \"F\", \"x\": 35.07364273071289, \"y\": -4.595440864562988}, {\"place\": \"Poitiers\", \"country\": \"F\", \"x\": 33.48284912109375, \"y\": -5.535036563873291}, {\"place\": \"Bordeaux\", \"country\": \"F\", \"x\": 35.17708969116211, \"y\": -10.526732444763184}, {\"place\": \"San Sebasti\\u00e1n\", \"country\": \"E\", \"x\": 33.90922927856445, \"y\": -17.37315559387207}, {\"place\": \"Burgos\", \"country\": \"E\", \"x\": 36.629730224609375, \"y\": -20.236604690551758}, {\"place\": \"Madrid\", \"country\": \"E\", \"x\": 37.82182312011719, \"y\": -19.16319465637207}, {\"place\": \"Cord\\u00f3ba\", \"country\": \"E\", \"x\": 39.12852478027344, \"y\": -20.005300521850586}, {\"place\": \"Sevilla\", \"country\": \"E\", \"x\": 40.01900863647461, \"y\": -20.824281692504883}, {\"place\": \"C\\u00e1diz\", \"country\": \"E\", \"x\": 40.87021255493164, \"y\": -19.9904842376709}, {\"place\": \"Trelleborg\", \"country\": \"S\", \"x\": -6.64345645904541, \"y\": 36.922264099121094}, {\"place\": \"Malm\\u00f6\", \"country\": \"S\", \"x\": -6.983177185058594, \"y\": 35.92347717285156}, {\"place\": \"Halmstad\", \"country\": \"S\", \"x\": -6.360332012176514, \"y\": 34.389732360839844}, {\"place\": \"G\\u00f6teborg\", \"country\": \"S\", \"x\": -6.181713104248047, \"y\": 32.6806755065918}, {\"place\": \"Oslo\", \"country\": \"N\", \"x\": -5.250087261199951, \"y\": 29.48529624938965}, {\"place\": \"Lillehammer\", \"country\": \"N\", \"x\": -6.459800720214844, \"y\": 28.91315269470215}, {\"place\": \"Trondheim\", \"country\": \"N\", \"x\": -13.63325023651123, \"y\": 31.381694793701172}, {\"place\": \"Narvik\", \"country\": \"N\", \"x\": -15.287034034729004, \"y\": 32.11007308959961}, {\"place\": \"Olderfjord\", \"country\": \"N\", \"x\": -15.572563171386719, \"y\": 33.59864807128906}, {\"place\": \"Karasjok\", \"country\": \"N\", \"x\": -16.077468872070312, \"y\": 34.202877044677734}, {\"place\": \"Pau\", \"country\": \"F\", \"x\": 34.596900939941406, \"y\": -15.833361625671387}, {\"place\": \"Ja\\u00e7a\", \"country\": \"E\", \"x\": 35.37063217163086, \"y\": -16.79153060913086}, {\"place\": \"Huesca\", \"country\": \"E\", \"x\": 36.0013542175293, \"y\": -17.384830474853516}, {\"place\": \"Troms\\u00f8\", \"country\": \"N\", \"x\": -23.04427146911621, \"y\": 30.820383071899414}, {\"place\": \"Nordkjosbotn\", \"country\": \"N\", \"x\": -23.088279724121094, \"y\": 30.2917537689209}, {\"place\": \"Skibotn\", \"country\": \"N\", \"x\": -22.322738647460938, \"y\": 30.30758285522461}, {\"place\": \"Kilpisj\\u00e4rvi\", \"country\": \"FIN\", \"x\": -21.74677276611328, \"y\": 29.630138397216797}, {\"place\": \"Limoges\", \"country\": \"F\", \"x\": 36.36233901977539, \"y\": -9.165544509887695}, {\"place\": \"Toulouse\", \"country\": \"F\", \"x\": 34.659358978271484, \"y\": -12.775498390197754}, {\"place\": \"\\u00c5\", \"country\": \"N\", \"x\": -15.922059059143066, \"y\": 31.8300838470459}, {\"place\": \"Kiruna\", \"country\": \"S\", \"x\": -17.02970314025879, \"y\": 30.759069442749023}, {\"place\": \"Kirkenes\", \"country\": \"N\", \"x\": -16.73299217224121, \"y\": 34.570770263671875}, {\"place\": \"Murmansk\", \"country\": \"RUS\", \"x\": -23.608442306518555, \"y\": 18.956769943237305}, {\"place\": \"Petrozavodsk\", \"country\": \"RUS\", \"x\": -23.254425048828125, \"y\": 18.343873977661133}, {\"place\": \"Sankt-Peterburg\", \"country\": \"RUS\", \"x\": -22.61115074157715, \"y\": 17.554855346679688}, {\"place\": \"Moskva\", \"country\": \"RUS\", \"x\": -26.662599563598633, \"y\": 12.745734214782715}, {\"place\": \"Orel\", \"country\": \"RUS\", \"x\": -26.876981735229492, \"y\": 11.394925117492676}, {\"place\": \"Charkov\", \"country\": \"UA\", \"x\": -27.801746368408203, \"y\": 10.823759078979492}, {\"place\": \"Simferopol\", \"country\": \"UA\", \"x\": -27.793188095092773, \"y\": 9.89771842956543}, {\"place\": \"Alushta\", \"country\": \"UA\", \"x\": -27.254236221313477, \"y\": 9.163091659545898}, {\"place\": \"Vierzon\", \"country\": \"F\", \"x\": 34.83659362792969, \"y\": -6.713076114654541}, {\"place\": \"Montlu\\u00e7on\", \"country\": \"F\", \"x\": 34.41773223876953, \"y\": -7.74599027633667}, {\"place\": \"Clermont-Ferrand\", \"country\": \"F\", \"x\": 33.8288688659668, \"y\": -8.438067436218262}, {\"place\": \"Rostov-na-Donu\", \"country\": \"RUS\", \"x\": -29.94785499572754, \"y\": 11.23725414276123}, {\"place\": \"Stavropol\", \"country\": \"RUS\", \"x\": -31.48049545288086, \"y\": 11.380472183227539}, {\"place\": \"Macha\\u010dkala\", \"country\": \"RUS\", \"x\": -32.67267608642578, \"y\": 11.27906608581543}, {\"place\": \"Baku\", \"country\": \"AZ\", \"x\": -33.48928451538086, \"y\": 11.033095359802246}, {\"place\": \"Mo i Rana\", \"country\": \"N\", \"x\": -16.704166412353516, \"y\": 29.1766414642334}, {\"place\": \"Vaasa\", \"country\": \"FIN\", \"x\": -17.403553009033203, \"y\": 26.9625186920166}, {\"place\": \"Tampere\", \"country\": \"FIN\", \"x\": -18.103628158569336, \"y\": 25.544879913330078}, {\"place\": \"Doncaster\", \"country\": \"GB\", \"x\": 15.274395942687988, \"y\": 30.152008056640625}, {\"place\": \"Sheffield\", \"country\": \"GB\", \"x\": 16.40614128112793, \"y\": 29.681957244873047}, {\"place\": \"Nottingham\", \"country\": \"GB\", \"x\": 17.24945831298828, \"y\": 29.222576141357422}, {\"place\": \"Leicester\", \"country\": \"GB\", \"x\": 17.613378524780273, \"y\": 28.501527786254883}, {\"place\": \"Northampton\", \"country\": \"GB\", \"x\": 17.600887298583984, \"y\": 27.761505126953125}, {\"place\": \"Haugesund\", \"country\": \"N\", \"x\": -0.725674569606781, \"y\": -15.118936538696289}, {\"place\": \"Haukeligrend\", \"country\": \"N\", \"x\": -0.6002511382102966, \"y\": -15.453871726989746}, {\"place\": \"\\u00c5lesund\", \"country\": \"N\", \"x\": -5.455440998077393, \"y\": 27.325416564941406}, {\"place\": \"Andalsnes\", \"country\": \"N\", \"x\": -5.320415019989014, \"y\": 26.498655319213867}, {\"place\": \"Storlien\", \"country\": \"S\", \"x\": -14.05044174194336, \"y\": 30.42513656616211}, {\"place\": \"Ostersund\", \"country\": \"S\", \"x\": -14.568065643310547, \"y\": 29.692169189453125}, {\"place\": \"Inverness\", \"country\": \"GB\", \"x\": 0.1537405103445053, \"y\": 26.325590133666992}, {\"place\": \"Perth\", \"country\": \"GB\", \"x\": 0.2089240998029709, \"y\": 26.935348510742188}, {\"place\": \"Edinburgh\", \"country\": \"GB\", \"x\": 1.189120888710022, \"y\": 27.19780731201172}, {\"place\": \"Newcastle upon Tyne\", \"country\": \"GB\", \"x\": 2.511927366256714, \"y\": 28.421640396118164}, {\"place\": \"Scotch Corner\", \"country\": \"GB\", \"x\": 14.753565788269043, \"y\": 30.72511100769043}, {\"place\": \"London\", \"country\": \"GB\", \"x\": 16.977222442626953, \"y\": 26.64080047607422}, {\"place\": \"Folkestone\", \"country\": \"GB\", \"x\": 18.207170486450195, \"y\": 26.584989547729492}, {\"place\": \"Dover\", \"country\": \"GB\", \"x\": 37.4874153137207, \"y\": 2.889657735824585}, {\"place\": \"Calais\", \"country\": \"F\", \"x\": 36.59748077392578, \"y\": 2.697765827178955}, {\"place\": \"Lyon\", \"country\": \"F\", \"x\": 30.9971981048584, \"y\": -8.825276374816895}, {\"place\": \"Orange\", \"country\": \"F\", \"x\": 31.245302200317383, \"y\": -11.08497142791748}, {\"place\": \"Narbonne\", \"country\": \"F\", \"x\": 33.18367385864258, \"y\": -13.151542663574219}, {\"place\": \"Gerona\", \"country\": \"E\", \"x\": 34.06965637207031, \"y\": -13.77492618560791}, {\"place\": \"Barcelona\", \"country\": \"E\", \"x\": 35.83475112915039, \"y\": -14.413159370422363}, {\"place\": \"Tarragona\", \"country\": \"E\", \"x\": 38.14803695678711, \"y\": -15.684396743774414}, {\"place\": \"Castell\\u00f3n de la Plana\", \"country\": \"E\", \"x\": 38.84025192260742, \"y\": -16.549102783203125}, {\"place\": \"Valencia\", \"country\": \"E\", \"x\": 39.106510162353516, \"y\": -17.517610549926758}, {\"place\": \"Alicante\", \"country\": \"E\", \"x\": 40.175811767578125, \"y\": -17.777219772338867}, {\"place\": \"Murcia\", \"country\": \"E\", \"x\": 40.87015914916992, \"y\": -18.34999656677246}, {\"place\": \"Londonderry\", \"country\": \"GB\", \"x\": 4.380105018615723, \"y\": 24.518566131591797}, {\"place\": \"Bergen\", \"country\": \"N\", \"x\": -3.932547092437744, \"y\": 27.305011749267578}, {\"place\": \"Fagernes\", \"country\": \"N\", \"x\": -4.38678503036499, \"y\": 28.465656280517578}, {\"place\": \"Antwerpen\", \"country\": \"B\", \"x\": 31.95824432373047, \"y\": 11.668035507202148}, {\"place\": \"Gent\", \"country\": \"B\", \"x\": 33.26487731933594, \"y\": 10.764034271240234}, {\"place\": \"Kortrijk\", \"country\": \"B\", \"x\": 34.93431091308594, \"y\": 10.837672233581543}, {\"place\": \"Cambrai\", \"country\": \"F\", \"x\": 34.74645233154297, \"y\": 9.819154739379883}, {\"place\": \"Reims\", \"country\": \"F\", \"x\": 32.245635986328125, \"y\": 4.280986309051514}, {\"place\": \"Craigavon\", \"country\": \"GB\", \"x\": 5.206608295440674, \"y\": 24.40540313720703}, {\"place\": \"Stranraer\", \"country\": \"GB\", \"x\": 4.7080607414245605, \"y\": 26.075897216796875}, {\"place\": \"Kristiansand\", \"country\": \"N\", \"x\": -1.909411907196045, \"y\": 28.922073364257812}, {\"place\": \"\\u00d6rebro\", \"country\": \"S\", \"x\": -8.208314895629883, \"y\": 30.81688117980957}, {\"place\": \"Arboga\", \"country\": \"S\", \"x\": -9.525418281555176, \"y\": 30.1441650390625}, {\"place\": \"V\\u00e4steras\", \"country\": \"S\", \"x\": -11.894712448120117, \"y\": 28.247148513793945}, {\"place\": \"Kapellsk\\u00e4r\", \"country\": \"S\", \"x\": -13.878543853759766, \"y\": 26.8125057220459}, {\"place\": \"Mariehamn\", \"country\": \"FIN\", \"x\": -14.506956100463867, \"y\": 26.07455825805664}, {\"place\": \"Naantali\", \"country\": \"FIN\", \"x\": -16.094833374023438, \"y\": 25.27758026123047}, {\"place\": \"Turku\", \"country\": \"FIN\", \"x\": -17.17626953125, \"y\": 24.6724853515625}, {\"place\": \"Helsinki\", \"country\": \"FIN\", \"x\": -18.093332290649414, \"y\": 23.49467658996582}, {\"place\": \"Vaalimaa\", \"country\": \"FIN\", \"x\": -21.71517562866211, \"y\": 18.5768985748291}, {\"place\": \"Amsterdam\", \"country\": \"NL\", \"x\": 25.19605255126953, \"y\": 20.17367172241211}, {\"place\": \"Den Haag\", \"country\": \"NL\", \"x\": 27.050657272338867, \"y\": 20.09235191345215}, {\"place\": \"Rotterdam\", \"country\": \"NL\", \"x\": 27.847043991088867, \"y\": 19.138019561767578}, {\"place\": \"Breda\", \"country\": \"NL\", \"x\": 30.38616371154785, \"y\": 14.69608211517334}, {\"place\": \"Bruxelles\", \"country\": \"B\", \"x\": 31.8606014251709, \"y\": 9.967878341674805}, {\"place\": \"Mons\", \"country\": \"B\", \"x\": 33.910987854003906, \"y\": 6.749749183654785}, {\"place\": \"Valenciennes\", \"country\": \"F\", \"x\": 34.05303192138672, \"y\": 4.0894389152526855}, {\"place\": \"Shannon\", \"country\": \"IRL\", \"x\": 8.142975807189941, \"y\": 22.50306510925293}, {\"place\": \"Limerick\", \"country\": \"IRL\", \"x\": 8.038591384887695, \"y\": 23.245431900024414}, {\"place\": \"Portlaoise\", \"country\": \"IRL\", \"x\": 8.782203674316406, \"y\": 23.687110900878906}, {\"place\": \"Liverpool\", \"country\": \"GB\", \"x\": 9.091421127319336, \"y\": 25.426305770874023}, {\"place\": \"Manchester\", \"country\": \"GB\", \"x\": 11.423864364624023, \"y\": 29.784664154052734}, {\"place\": \"Bradford\", \"country\": \"GB\", \"x\": 11.944729804992676, \"y\": 30.610363006591797}, {\"place\": \"Leeds\", \"country\": \"GB\", \"x\": 12.625553131103516, \"y\": 30.826091766357422}, {\"place\": \"Kingston upon Hull\", \"country\": \"GB\", \"x\": 12.048267364501953, \"y\": 31.796154022216797}, {\"place\": \"Esbjerg\", \"country\": \"DK\", \"x\": -0.5361804366111755, \"y\": 34.476951599121094}, {\"place\": \"Kolding\", \"country\": \"DK\", \"x\": -1.311126708984375, \"y\": 35.021522521972656}, {\"place\": \"Middelfart\", \"country\": \"DK\", \"x\": -1.8874821662902832, \"y\": 35.89020538330078}, {\"place\": \"Nyborg\", \"country\": \"DK\", \"x\": -2.3632407188415527, \"y\": 36.651912689208984}, {\"place\": \"Kors\\u00f8r\", \"country\": \"DK\", \"x\": -2.7479605674743652, \"y\": 37.4412841796875}, {\"place\": \"K\\u00f8ge\", \"country\": \"DK\", \"x\": -3.699812173843384, \"y\": 38.37800598144531}, {\"place\": \"K\\u00f8benhavn\", \"country\": \"DK\", \"x\": -4.6487932205200195, \"y\": 37.7708854675293}, {\"place\": \"Eskilstuna\", \"country\": \"S\", \"x\": -10.244976997375488, \"y\": 29.66143035888672}, {\"place\": \"Tallinn\", \"country\": \"EST\", \"x\": -20.57134437561035, \"y\": 19.268434524536133}, {\"place\": \"Cork\", \"country\": \"IRL\", \"x\": 8.988906860351562, \"y\": 22.85854148864746}, {\"place\": \"Metz\", \"country\": \"F\", \"x\": 27.248754501342773, \"y\": 4.293875217437744}, {\"place\": \"Nancy\", \"country\": \"F\", \"x\": 27.19588279724121, \"y\": 2.5618398189544678}, {\"place\": \"Dijon\", \"country\": \"F\", \"x\": 28.306276321411133, \"y\": -4.297312259674072}, {\"place\": \"Holyhead\", \"country\": \"GB\", \"x\": 9.727487564086914, \"y\": 28.968246459960938}, {\"place\": \"Chester\", \"country\": \"GB\", \"x\": 9.771158218383789, \"y\": 28.510581970214844}, {\"place\": \"Immingham\", \"country\": \"GB\", \"x\": 15.766847610473633, \"y\": 31.074077606201172}, {\"place\": \"Groningen\", \"country\": \"NL\", \"x\": 23.341148376464844, \"y\": 20.772798538208008}, {\"place\": \"Oldenburg\", \"country\": \"D\", \"x\": 21.776161193847656, \"y\": 19.786956787109375}, {\"place\": \"Bremen\", \"country\": \"D\", \"x\": 20.327329635620117, \"y\": 19.082313537597656}, {\"place\": \"Hamburg\", \"country\": \"D\", \"x\": 3.3282694816589355, \"y\": 39.74187088012695}, {\"place\": \"L\\u00fcbeck\", \"country\": \"D\", \"x\": 1.4860438108444214, \"y\": 40.25734329223633}, {\"place\": \"Rostock\", \"country\": \"D\", \"x\": 1.6775442361831665, \"y\": 39.108192443847656}, {\"place\": \"Stralsund\", \"country\": \"D\", \"x\": 1.7172574996948242, \"y\": 38.03306198120117}, {\"place\": \"Sa\\u00dfnitz\", \"country\": \"D\", \"x\": 0.8399834036827087, \"y\": 37.793270111083984}, {\"place\": \"Kalmar\", \"country\": \"S\", \"x\": -8.39137077331543, \"y\": 35.742557525634766}, {\"place\": \"Besan\\u00e7on\", \"country\": \"F\", \"x\": 27.329410552978516, \"y\": -1.8711100816726685}, {\"place\": \"Vallorbe\", \"country\": \"CH\", \"x\": 26.6356258392334, \"y\": -3.362635374069214}, {\"place\": \"Amersfoort\", \"country\": \"NL\", \"x\": 23.947553634643555, \"y\": 19.30718421936035}, {\"place\": \"Hoogeveen\", \"country\": \"NL\", \"x\": 23.030765533447266, \"y\": 20.032997131347656}, {\"place\": \"Hasel\\u00fcnne\", \"country\": \"D\", \"x\": 21.6590633392334, \"y\": 20.702844619750977}, {\"place\": \"Cloppenburg\", \"country\": \"D\", \"x\": 20.8247013092041, \"y\": 20.28681182861328}, {\"place\": \"Cuxhaven\", \"country\": \"D\", \"x\": 19.16040802001953, \"y\": 19.788782119750977}, {\"place\": \"Bremerhaven\", \"country\": \"D\", \"x\": 19.421875, \"y\": 20.70450210571289}, {\"place\": \"Cambridge\", \"country\": \"GB\", \"x\": 12.997159004211426, \"y\": 27.69101333618164}, {\"place\": \"Hoek van Holland\", \"country\": \"NL\", \"x\": 27.523088455200195, \"y\": 20.84786605834961}, {\"place\": \"Gouda\", \"country\": \"NL\", \"x\": 26.56603240966797, \"y\": 19.095888137817383}, {\"place\": \"Utrecht\", \"country\": \"NL\", \"x\": 25.69952964782715, \"y\": 18.73600959777832}, {\"place\": \"'s-Hertogenbosch\", \"country\": \"NL\", \"x\": 29.361003875732422, \"y\": 15.671466827392578}, {\"place\": \"Eindhoven\", \"country\": \"NL\", \"x\": 30.161251068115234, \"y\": 13.512896537780762}, {\"place\": \"Maastricht\", \"country\": \"NL\", \"x\": 30.28384017944336, \"y\": 11.894088745117188}, {\"place\": \"Li\\u00e8ge\", \"country\": \"B\", \"x\": 30.117055892944336, \"y\": 9.435760498046875}, {\"place\": \"Bastogne\", \"country\": \"B\", \"x\": 30.00800323486328, \"y\": 8.414756774902344}, {\"place\": \"Arlon\", \"country\": \"B\", \"x\": 29.508819580078125, \"y\": 6.94775390625}, {\"place\": \"Luxembourg\", \"country\": \"L\", \"x\": 27.257368087768555, \"y\": 6.317763328552246}, {\"place\": \"Saint-Avold\", \"country\": \"F\", \"x\": 25.302852630615234, \"y\": 1.6523786783218384}, {\"place\": \"Strasbourg\", \"country\": \"F\", \"x\": 23.812137603759766, \"y\": 1.1091203689575195}, {\"place\": \"Mulhouse\", \"country\": \"F\", \"x\": 23.222517013549805, \"y\": -0.400581419467926}, {\"place\": \"Basel\", \"country\": \"CH\", \"x\": 21.250123977661133, \"y\": -0.7092931270599365}, {\"place\": \"Olten\", \"country\": \"CH\", \"x\": 22.04267692565918, \"y\": -1.81708824634552}, {\"place\": \"Bern\", \"country\": \"CH\", \"x\": 24.904312133789062, \"y\": -3.6353976726531982}, {\"place\": \"Lausanne\", \"country\": \"CH\", \"x\": 26.625757217407227, \"y\": -4.8293986320495605}, {\"place\": \"Gen\\u00e8ve\", \"country\": \"CH\", \"x\": 27.912582397460938, \"y\": -5.939909934997559}, {\"place\": \"Mont-Blanc\", \"country\": \"F\", \"x\": 26.594579696655273, \"y\": -7.5603156089782715}, {\"place\": \"Aosta\", \"country\": \"I\", \"x\": 25.654935836791992, \"y\": -8.784061431884766}, {\"place\": \"Ivrea\", \"country\": \"I\", \"x\": 24.83888816833496, \"y\": -10.374938011169434}, {\"place\": \"Vercelli\", \"country\": \"I\", \"x\": 23.906402587890625, \"y\": -11.267280578613281}, {\"place\": \"Alessandria\", \"country\": \"I\", \"x\": 23.087379455566406, \"y\": -12.247703552246094}, {\"place\": \"Neubrandenburg\", \"country\": \"D\", \"x\": 2.745830774307251, \"y\": 38.029598236083984}, {\"place\": \"\\u015awiecie\", \"country\": \"PL\", \"x\": -9.759135246276855, \"y\": 16.962018966674805}, {\"place\": \"Pozna\\u0144\", \"country\": \"PL\", \"x\": -9.942912101745605, \"y\": 15.783031463623047}, {\"place\": \"Belfort\", \"country\": \"F\", \"x\": 25.29484748840332, \"y\": -2.1996259689331055}, {\"place\": \"Martigny\", \"country\": \"CH\", \"x\": 25.2744140625, \"y\": -6.120980739593506}, {\"place\": \"Grand-Saint-Bernard\", \"country\": \"CH\", \"x\": 25.467939376831055, \"y\": -7.794885158538818}, {\"place\": \"Klaip\\u00e9da\", \"country\": \"LT\", \"x\": -18.411741256713867, \"y\": 14.198443412780762}, {\"place\": \"Kaunas\", \"country\": \"LT\", \"x\": -18.0048885345459, \"y\": 13.465022087097168}, {\"place\": \"Vilnius\", \"country\": \"LT\", \"x\": -19.58662986755371, \"y\": 13.116902351379395}, {\"place\": \"Minsk\", \"country\": \"BY\", \"x\": -22.068920135498047, \"y\": 13.34621810913086}, {\"place\": \"Palanga\", \"country\": \"LT\", \"x\": -17.785215377807617, \"y\": 14.810113906860352}, {\"place\": \"Siauliai\", \"country\": \"LT\", \"x\": -18.533096313476562, \"y\": 15.25890827178955}, {\"place\": \"Panev\\u0117\\u017eys\", \"country\": \"LT\", \"x\": -19.589797973632812, \"y\": 15.632864952087402}, {\"place\": \"Ukmerg\\u00e9\", \"country\": \"LT\", \"x\": -19.648117065429688, \"y\": 14.476963996887207}, {\"place\": \"Berlin\", \"country\": \"D\", \"x\": 3.9720537662506104, \"y\": 37.23827362060547}, {\"place\": \"Szczecin\", \"country\": \"PL\", \"x\": 4.102284908294678, \"y\": 35.438507080078125}, {\"place\": \"Goleni\\u00f3w\", \"country\": \"PL\", \"x\": 3.6288363933563232, \"y\": 34.47885513305664}, {\"place\": \"Koszalin\", \"country\": \"PL\", \"x\": -10.542604446411133, \"y\": 18.832780838012695}, {\"place\": \"K\\u00f6ln\", \"country\": \"D\", \"x\": 23.2204647064209, \"y\": 11.562520027160645}, {\"place\": \"Saarbr\\u00fccken\", \"country\": \"D\", \"x\": 26.204296112060547, \"y\": 5.83003568649292}, {\"place\": \"Waterford\", \"country\": \"IRL\", \"x\": 9.64317512512207, \"y\": 22.390140533447266}, {\"place\": \"Fishguard\", \"country\": \"GB\", \"x\": 12.554337501525879, \"y\": 22.849180221557617}, {\"place\": \"Swansea\", \"country\": \"GB\", \"x\": 13.675599098205566, \"y\": 23.289949417114258}, {\"place\": \"Cardiff\", \"country\": \"GB\", \"x\": 14.538533210754395, \"y\": 23.787641525268555}, {\"place\": \"Newport\", \"country\": \"GB\", \"x\": 15.43506145477295, \"y\": 24.517236709594727}, {\"place\": \"Bristol\", \"country\": \"GB\", \"x\": 16.130149841308594, \"y\": 25.406187057495117}, {\"place\": \"Colchester\", \"country\": \"GB\", \"x\": 15.871467590332031, \"y\": 27.320600509643555}, {\"place\": \"Ipswich\", \"country\": \"GB\", \"x\": 14.487529754638672, \"y\": 27.471908569335938}, {\"place\": \"Felixstowe\", \"country\": \"GB\", \"x\": 26.918067932128906, \"y\": 21.827741622924805}, {\"place\": \"Oldenzaal\", \"country\": \"NL\", \"x\": 22.050411224365234, \"y\": 18.243446350097656}, {\"place\": \"Osnabr\\u00fcck\", \"country\": \"D\", \"x\": 21.116132736206055, \"y\": 17.36699867248535}, {\"place\": \"Bad Oeynhausen\", \"country\": \"D\", \"x\": 20.282649993896484, \"y\": 15.94222354888916}, {\"place\": \"Hannover\", \"country\": \"D\", \"x\": 19.02882957458496, \"y\": 16.138957977294922}, {\"place\": \"Braunschweig\", \"country\": \"D\", \"x\": 9.897977828979492, \"y\": 15.763603210449219}, {\"place\": \"Magdeburg\", \"country\": \"D\", \"x\": 9.0509614944458, \"y\": 15.440733909606934}, {\"place\": \"\\u015awiebodzin\", \"country\": \"PL\", \"x\": 5.164867877960205, \"y\": 35.64566421508789}, {\"place\": \"\\u0141owicz\", \"country\": \"PL\", \"x\": -10.901838302612305, \"y\": 14.839866638183594}, {\"place\": \"Warszawa\", \"country\": \"PL\", \"x\": -12.158928871154785, \"y\": 13.817798614501953}, {\"place\": \"Br\\u0117st\", \"country\": \"BY\", \"x\": -13.732061386108398, \"y\": 13.386293411254883}, {\"place\": \"Smolensk\", \"country\": \"RUS\", \"x\": -25.136865615844727, \"y\": 13.339289665222168}, {\"place\": \"Rjazan\", \"country\": \"RUS\", \"x\": -27.835874557495117, \"y\": 13.331265449523926}, {\"place\": \"Penza\", \"country\": \"RUS\", \"x\": -28.68096923828125, \"y\": 13.738760948181152}, {\"place\": \"Gorinchem\", \"country\": \"NL\", \"x\": 27.828310012817383, \"y\": 17.39016342163086}, {\"place\": \"Nijmegen\", \"country\": \"NL\", \"x\": 26.894933700561523, \"y\": 15.91031551361084}, {\"place\": \"Goch\", \"country\": \"D\", \"x\": 26.254379272460938, \"y\": 15.121047973632812}, {\"place\": \"Krefeld\", \"country\": \"D\", \"x\": 25.180404663085938, \"y\": 13.691610336303711}, {\"place\": \"Koblenz\", \"country\": \"D\", \"x\": 23.101205825805664, \"y\": 9.990221977233887}, {\"place\": \"Bingen\", \"country\": \"D\", \"x\": 24.33858299255371, \"y\": 9.221699714660645}, {\"place\": \"Vlissingen\", \"country\": \"NL\", \"x\": 31.307832717895508, \"y\": 14.284595489501953}, {\"place\": \"Leuven\", \"country\": \"B\", \"x\": 26.867904663085938, \"y\": 11.871143341064453}, {\"place\": \"Hasselt\", \"country\": \"B\", \"x\": 26.647117614746094, \"y\": 11.60306167602539}, {\"place\": \"Heerlen\", \"country\": \"NL\", \"x\": 26.832117080688477, \"y\": 10.950444221496582}, {\"place\": \"Parma\", \"country\": \"I\", \"x\": 17.109468460083008, \"y\": -14.169500350952148}, {\"place\": \"Dortmund\", \"country\": \"D\", \"x\": 21.894025802612305, \"y\": 14.083332061767578}, {\"place\": \"Zeebrugge\", \"country\": \"B\", \"x\": 33.66959762573242, \"y\": 12.015188217163086}, {\"place\": \"Venlo\", \"country\": \"NL\", \"x\": 28.727636337280273, \"y\": 14.206278800964355}, {\"place\": \"Oberhausen\", \"country\": \"D\", \"x\": 23.15859031677246, \"y\": 13.676097869873047}, {\"place\": \"Arnhem\", \"country\": \"NL\", \"x\": 24.92576789855957, \"y\": 17.56732177734375}, {\"place\": \"Emmerich\", \"country\": \"D\", \"x\": 24.316537857055664, \"y\": 16.148395538330078}, {\"place\": \"Frankfurt am Main\", \"country\": \"D\", \"x\": 21.474241256713867, \"y\": 8.880891799926758}, {\"place\": \"Heidelberg\", \"country\": \"D\", \"x\": 21.06807518005371, \"y\": 3.671382188796997}, {\"place\": \"Karlsruhe\", \"country\": \"D\", \"x\": 20.880664825439453, \"y\": 2.3480796813964844}, {\"place\": \"Offenburg\", \"country\": \"D\", \"x\": 21.247577667236328, \"y\": 1.14650297164917}, {\"place\": \"Luzern\", \"country\": \"CH\", \"x\": 21.29867935180664, \"y\": -2.5942258834838867}, {\"place\": \"Altdorf\", \"country\": \"CH\", \"x\": 19.996150970458984, \"y\": -3.129254102706909}, {\"place\": \"San Gottardo\", \"country\": \"CH\", \"x\": 19.332796096801758, \"y\": -4.206099987030029}, {\"place\": \"Bellinzona\", \"country\": \"CH\", \"x\": 18.563278198242188, \"y\": -5.623254776000977}, {\"place\": \"Lugano\", \"country\": \"CH\", \"x\": 18.729284286499023, \"y\": -6.733358860015869}, {\"place\": \"Chiasso\", \"country\": \"CH\", \"x\": 19.162616729736328, \"y\": -8.08376693725586}, {\"place\": \"Como\", \"country\": \"I\", \"x\": 19.830957412719727, \"y\": -9.595731735229492}, {\"place\": \"Milano\", \"country\": \"I\", \"x\": 20.720746994018555, \"y\": -11.19298267364502}, {\"place\": \"Piacenza\", \"country\": \"I\", \"x\": 18.827064514160156, \"y\": -13.104808807373047}, {\"place\": \"Modena\", \"country\": \"I\", \"x\": 14.756181716918945, \"y\": -14.778389930725098}, {\"place\": \"Firenze\", \"country\": \"I\", \"x\": 14.542034149169922, \"y\": -16.50757598876953}, {\"place\": \"Arezzo\", \"country\": \"I\", \"x\": 13.239700317382812, \"y\": -18.239425659179688}, {\"place\": \"L\\u00fcbbenau\", \"country\": \"D\", \"x\": 3.6118979454040527, \"y\": 14.730565071105957}, {\"place\": \"Cottbus\", \"country\": \"D\", \"x\": 2.6362156867980957, \"y\": 14.842674255371094}, {\"place\": \"Radom\", \"country\": \"PL\", \"x\": -8.96981430053711, \"y\": 10.115756034851074}, {\"place\": \"Rzesz\\u00f3w\", \"country\": \"PL\", \"x\": -8.61219310760498, \"y\": 9.512723922729492}, {\"place\": \"Barwinek\", \"country\": \"PL\", \"x\": -7.746706962585449, \"y\": 8.956988334655762}, {\"place\": \"Vy\\u0161n\\u00fd Kom\\u00e1rnik\", \"country\": \"SK\", \"x\": -7.296609878540039, \"y\": 8.290804862976074}, {\"place\": \"Svidnik\", \"country\": \"SK\", \"x\": -6.753736972808838, \"y\": 7.269603729248047}, {\"place\": \"Lublin\", \"country\": \"PL\", \"x\": -11.671407699584961, \"y\": 11.619346618652344}, {\"place\": \"Kovel\", \"country\": \"UA\", \"x\": -12.508478164672852, \"y\": 11.13708782196045}, {\"place\": \"Kiev\", \"country\": \"UA\", \"x\": -25.529024124145508, \"y\": 10.790205955505371}, {\"place\": \"Stavanger\", \"country\": \"N\", \"x\": -2.8626837730407715, \"y\": 28.076276779174805}, {\"place\": \"Hirtshals\", \"country\": \"DK\", \"x\": -2.663191556930542, \"y\": 30.378177642822266}, {\"place\": \"Hj\\u00f8rring\", \"country\": \"DK\", \"x\": -2.826754331588745, \"y\": 31.24311637878418}, {\"place\": \"N\\u00f8rresundby\", \"country\": \"DK\", \"x\": -2.954007387161255, \"y\": 31.94150161743164}, {\"place\": \"Oostende\", \"country\": \"B\", \"x\": 36.66728973388672, \"y\": 4.1103715896606445}, {\"place\": \"Aachen\", \"country\": \"D\", \"x\": 27.65233612060547, \"y\": 10.421112060546875}, {\"place\": \"Olpe\", \"country\": \"D\", \"x\": 21.924888610839844, \"y\": 10.916971206665039}, {\"place\": \"Gie\\u00dfen\", \"country\": \"D\", \"x\": 20.69686508178711, \"y\": 10.40263557434082}, {\"place\": \"Bad Hersfeld\", \"country\": \"D\", \"x\": 17.548858642578125, \"y\": 10.618093490600586}, {\"place\": \"Herleshausen\", \"country\": \"D\", \"x\": 16.588062286376953, \"y\": 10.707996368408203}, {\"place\": \"Eisenach\", \"country\": \"D\", \"x\": 14.550020217895508, \"y\": 10.91849422454834}, {\"place\": \"Erfurt\", \"country\": \"D\", \"x\": 12.875064849853516, \"y\": 11.018826484680176}, {\"place\": \"Gera\", \"country\": \"D\", \"x\": 11.465194702148438, \"y\": 10.940556526184082}, {\"place\": \"Chemnitz\", \"country\": \"D\", \"x\": 5.829878807067871, \"y\": 12.844565391540527}, {\"place\": \"Dresden\", \"country\": \"D\", \"x\": 4.340216636657715, \"y\": 12.810850143432617}, {\"place\": \"G\\u00f6rlitz\", \"country\": \"D\", \"x\": 3.234158754348755, \"y\": 13.569073677062988}, {\"place\": \"Legnica\", \"country\": \"PL\", \"x\": 1.5432767868041992, \"y\": 14.568985939025879}, {\"place\": \"Wroc\\u0142aw\", \"country\": \"PL\", \"x\": -6.242563724517822, \"y\": 14.266526222229004}, {\"place\": \"Opole\", \"country\": \"PL\", \"x\": -7.223308563232422, \"y\": 12.761738777160645}, {\"place\": \"Gliwice\", \"country\": \"PL\", \"x\": -7.6747636795043945, \"y\": 11.903458595275879}, {\"place\": \"Krak\\u00f3w\", \"country\": \"PL\", \"x\": -8.35364055633545, \"y\": 10.942985534667969}, {\"place\": \"Przemy\\u015bl\", \"country\": \"PL\", \"x\": -10.39358901977539, \"y\": 10.600719451904297}, {\"place\": \"L'vov\", \"country\": \"UA\", \"x\": -11.897894859313965, \"y\": 9.873348236083984}, {\"place\": \"Rovno\", \"country\": \"UA\", \"x\": -13.260558128356934, \"y\": 10.582297325134277}, {\"place\": \"\\u017ditomir\", \"country\": \"UA\", \"x\": -24.165386199951172, \"y\": 11.036871910095215}, {\"place\": \"Saint-Brieuc\", \"country\": \"F\", \"x\": 38.18050765991211, \"y\": -0.17819927632808685}, {\"place\": \"Rouen\", \"country\": \"F\", \"x\": 36.41109848022461, \"y\": 1.2030986547470093}, {\"place\": \"Brugge\", \"country\": \"B\", \"x\": 34.66706085205078, \"y\": 11.581270217895508}, {\"place\": \"Jabbeke\", \"country\": \"B\", \"x\": 33.39749526977539, \"y\": 12.60068416595459}, {\"place\": \"Aschaffenburg\", \"country\": \"D\", \"x\": 20.205833435058594, \"y\": 8.987282752990723}, {\"place\": \"W\\u00fcrzburg\", \"country\": \"D\", \"x\": 17.25543212890625, \"y\": 4.346185684204102}, {\"place\": \"Stuttgart\", \"country\": \"D\", \"x\": 17.996675491333008, \"y\": 2.076937198638916}, {\"place\": \"Schaffhausen\", \"country\": \"CH\", \"x\": 17.98249626159668, \"y\": 0.39593881368637085}, {\"place\": \"Winterthur\", \"country\": \"CH\", \"x\": 18.126529693603516, \"y\": -1.201556921005249}, {\"place\": \"Z\\u00fcrich\", \"country\": \"CH\", \"x\": 19.438278198242188, \"y\": -1.6727325916290283}, {\"place\": \"Namur\", \"country\": \"B\", \"x\": 31.344890594482422, \"y\": 8.418051719665527}, {\"place\": \"Longwy\", \"country\": \"F\", \"x\": 28.094871520996094, \"y\": 4.964011192321777}, {\"place\": \"Dunkerque\", \"country\": \"F\", \"x\": 34.890811920166016, \"y\": 5.977853298187256}, {\"place\": \"Lille\", \"country\": \"F\", \"x\": 34.69097900390625, \"y\": 6.602343559265137}, {\"place\": \"Charleroi\", \"country\": \"B\", \"x\": 32.83742904663086, \"y\": 6.379751205444336}, {\"place\": \"Sankt-Vith\", \"country\": \"B\", \"x\": 27.269798278808594, \"y\": 9.373159408569336}, {\"place\": \"Wittlich\", \"country\": \"D\", \"x\": 25.611705780029297, \"y\": 9.10464859008789}, {\"place\": \"Wiesbaden\", \"country\": \"D\", \"x\": 23.220726013183594, \"y\": 8.768628120422363}, {\"place\": \"Nivelles\", \"country\": \"B\", \"x\": 33.803401947021484, \"y\": 5.646177291870117}, {\"place\": \"Trier\", \"country\": \"D\", \"x\": 25.47833251953125, \"y\": 6.671514987945557}, {\"place\": \"Tournai\", \"country\": \"B\", \"x\": 9.493696212768555, \"y\": 13.7282075881958}, {\"place\": \"Ulm\", \"country\": \"D\", \"x\": 16.55872917175293, \"y\": 2.149618148803711}, {\"place\": \"Lindau\", \"country\": \"D\", \"x\": 16.330902099609375, \"y\": 0.8692505359649658}, {\"place\": \"Bregenz\", \"country\": \"A\", \"x\": 16.099369049072266, \"y\": -0.8094695210456848}, {\"place\": \"Sankt Margrethen\", \"country\": \"CH\", \"x\": 15.957878112792969, \"y\": -2.409852981567383}, {\"place\": \"Buchs\", \"country\": \"CH\", \"x\": 16.397201538085938, \"y\": -3.58355975151062}, {\"place\": \"Chur\", \"country\": \"CH\", \"x\": 17.038660049438477, \"y\": -4.469318389892578}, {\"place\": \"San Bernardino\", \"country\": \"CH\", \"x\": 17.803298950195312, \"y\": -5.064504146575928}, {\"place\": \"Amiens\", \"country\": \"F\", \"x\": 30.693387985229492, \"y\": 3.5514628887176514}, {\"place\": \"Charleville-M\\u00e9zi\\u00e8res\", \"country\": \"F\", \"x\": 30.16236686706543, \"y\": 4.78651762008667}, {\"place\": \"Karlovy Vary\", \"country\": \"CZ\", \"x\": 5.184945106506348, \"y\": 8.744134902954102}, {\"place\": \"Teplice\", \"country\": \"CZ\", \"x\": 3.8925604820251465, \"y\": 10.099404335021973}, {\"place\": \"Turnov\", \"country\": \"CZ\", \"x\": 2.669236898422241, \"y\": 9.997480392456055}, {\"place\": \"Hradec Kr\\u00e1lov\\u00e9\", \"country\": \"CZ\", \"x\": 0.31123489141464233, \"y\": 8.903565406799316}, {\"place\": \"Olomouc\", \"country\": \"CZ\", \"x\": -2.3949642181396484, \"y\": 7.721786975860596}, {\"place\": \"Frederikshavn\", \"country\": \"DK\", \"x\": -4.567423343658447, \"y\": 32.542327880859375}, {\"place\": \"\\u00c5lborg\", \"country\": \"DK\", \"x\": -3.3445119857788086, \"y\": 32.716392517089844}, {\"place\": \"\\u00c5rhus\", \"country\": \"DK\", \"x\": -2.539372682571411, \"y\": 33.46214294433594}, {\"place\": \"Vejle\", \"country\": \"DK\", \"x\": -1.7294963598251343, \"y\": 34.2006721496582}, {\"place\": \"Fr\\u00f8slev\", \"country\": \"DK\", \"x\": -0.17929062247276306, \"y\": 35.871131896972656}, {\"place\": \"Flensburg\", \"country\": \"D\", \"x\": 2.8499326705932617, \"y\": 40.33830642700195}, {\"place\": \"G\\u00f6ttingen\", \"country\": \"D\", \"x\": 19.242652893066406, \"y\": 14.555974006652832}, {\"place\": \"Kassel\", \"country\": \"D\", \"x\": 19.903711318969727, \"y\": 13.633902549743652}, {\"place\": \"Fulda\", \"country\": \"D\", \"x\": 18.34053611755371, \"y\": 7.757691860198975}, {\"place\": \"N\\u00fcrnberg\", \"country\": \"D\", \"x\": 9.843591690063477, \"y\": 5.037942409515381}, {\"place\": \"M\\u00fcnchen\", \"country\": \"D\", \"x\": 9.700678825378418, \"y\": 1.36722731590271}, {\"place\": \"Rosenheim\", \"country\": \"D\", \"x\": 9.002735137939453, \"y\": -0.9015461206436157}, {\"place\": \"W\\u00f6rgl\", \"country\": \"A\", \"x\": 9.922056198120117, \"y\": -2.2000815868377686}, {\"place\": \"Innsbruck\", \"country\": \"A\", \"x\": 10.963106155395508, \"y\": -3.6151163578033447}, {\"place\": \"Brennerpa\\u00df\", \"country\": \"A\", \"x\": 10.921239852905273, \"y\": -4.7462239265441895}, {\"place\": \"Passo di Brennero\", \"country\": \"I\", \"x\": 10.426072120666504, \"y\": -5.936062812805176}, {\"place\": \"Fortezza\", \"country\": \"I\", \"x\": 9.414249420166016, \"y\": -7.994980812072754}, {\"place\": \"Bolzano\", \"country\": \"I\", \"x\": 10.012928009033203, \"y\": -9.121748924255371}, {\"place\": \"Trento\", \"country\": \"I\", \"x\": 10.607588768005371, \"y\": -10.260334968566895}, {\"place\": \"Verona\", \"country\": \"I\", \"x\": 11.808897018432617, \"y\": -12.728757858276367}, {\"place\": \"Bologna\", \"country\": \"I\", \"x\": 12.786561012268066, \"y\": -15.035666465759277}, {\"place\": \"Cesena\", \"country\": \"I\", \"x\": 11.84809684753418, \"y\": -15.748517990112305}, {\"place\": \"Perugia\", \"country\": \"I\", \"x\": 12.027470588684082, \"y\": -16.904733657836914}, {\"place\": \"Fiano Romana\", \"country\": \"I\", \"x\": 11.358658790588379, \"y\": -19.651451110839844}, {\"place\": \"San Cesareo\", \"country\": \"I\", \"x\": 11.462419509887695, \"y\": -20.76186180114746}, {\"place\": \"Napoli\", \"country\": \"I\", \"x\": 11.129520416259766, \"y\": -22.1883602142334}, {\"place\": \"Salerno\", \"country\": \"I\", \"x\": 10.620606422424316, \"y\": -23.965381622314453}, {\"place\": \"Sicignano degli Alburni\", \"country\": \"I\", \"x\": 10.478456497192383, \"y\": -25.77105140686035}, {\"place\": \"Cosenza\", \"country\": \"I\", \"x\": 10.955522537231445, \"y\": -27.165021896362305}, {\"place\": \"Villa San Giovanni\", \"country\": \"I\", \"x\": 11.659159660339355, \"y\": -28.051448822021484}, {\"place\": \"Messina\", \"country\": \"I\", \"x\": 12.515572547912598, \"y\": -29.291366577148438}, {\"place\": \"Cat\\u00e1nia\", \"country\": \"I\", \"x\": 13.896657943725586, \"y\": -29.511899948120117}, {\"place\": \"Siracusa\", \"country\": \"I\", \"x\": 14.606837272644043, \"y\": -30.294485092163086}, {\"place\": \"Caen\", \"country\": \"F\", \"x\": 38.07632064819336, \"y\": -0.8344684839248657}, {\"place\": \"Svitavy\", \"country\": \"CZ\", \"x\": -0.8739379048347473, \"y\": 6.269412040710449}, {\"place\": \"Brno\", \"country\": \"CZ\", \"x\": -1.695655345916748, \"y\": 5.761754512786865}, {\"place\": \"\\u010cesky T\\u0115\\u0161in\", \"country\": \"CZ\", \"x\": -4.622525215148926, \"y\": 9.81547737121582}, {\"place\": \"Helsing\\u00f8r\", \"country\": \"DK\", \"x\": -5.265732288360596, \"y\": 36.710716247558594}, {\"place\": \"Vordingborg\", \"country\": \"DK\", \"x\": -2.553544759750366, \"y\": 39.13984680175781}, {\"place\": \"Far\\u00f8\", \"country\": \"DK\", \"x\": -1.7577890157699585, \"y\": 39.92815017700195}, {\"place\": \"R\\u00f8dby\", \"country\": \"DK\", \"x\": -0.08817558735609055, \"y\": 40.45196533203125}, {\"place\": \"Muka\\u010devo\", \"country\": \"UA\", \"x\": -11.5285062789917, \"y\": 7.93325138092041}, {\"place\": \"Schweinfurt\", \"country\": \"D\", \"x\": 9.492789268493652, \"y\": 6.7999701499938965}, {\"place\": \"Bayreuth\", \"country\": \"D\", \"x\": 10.00058364868164, \"y\": 7.377094268798828}, {\"place\": \"Marktredwitz\", \"country\": \"D\", \"x\": 8.387146949768066, \"y\": 7.396541595458984}, {\"place\": \"Cheb\", \"country\": \"CZ\", \"x\": 6.7090277671813965, \"y\": 8.293999671936035}, {\"place\": \"Halle\", \"country\": \"D\", \"x\": 8.194391250610352, \"y\": 14.254664421081543}, {\"place\": \"Halle\", \"country\": \"B\", \"x\": 8.354698181152344, \"y\": 13.855019569396973}, {\"place\": \"Plauen\", \"country\": \"D\", \"x\": 7.243344783782959, \"y\": 12.728045463562012}, {\"place\": \"Sch\\u00f6nberg\", \"country\": \"D\", \"x\": 6.585171699523926, \"y\": 11.367949485778809}, {\"place\": \"Vojtanov\", \"country\": \"CZ\", \"x\": 5.836122989654541, \"y\": 10.202731132507324}, {\"place\": \"Plze\\u0148\", \"country\": \"CZ\", \"x\": 5.437552452087402, \"y\": 6.3767523765563965}, {\"place\": \"\\u010cesk\\u00e9 Bud\\u011bjovice\", \"country\": \"CZ\", \"x\": 4.144888401031494, \"y\": 4.923357963562012}, {\"place\": \"T\\u0159ebo\\u0148\", \"country\": \"CZ\", \"x\": 2.4511289596557617, \"y\": 3.8791120052337646}, {\"place\": \"Hal\\u00e1mky\", \"country\": \"CZ\", \"x\": 1.2575076818466187, \"y\": 3.087345600128174}, {\"place\": \"Brest\", \"country\": \"F\", \"x\": 37.67926788330078, \"y\": -2.9600353240966797}, {\"place\": \"Le Mans\", \"country\": \"F\", \"x\": 35.649681091308594, \"y\": -0.09891234338283539}, {\"place\": \"Mannheim\", \"country\": \"D\", \"x\": 21.92721939086914, \"y\": 7.121541976928711}, {\"place\": \"Heilbronn\", \"country\": \"D\", \"x\": 11.127384185791016, \"y\": 4.845454692840576}, {\"place\": \"Rozvadov\", \"country\": \"CZ\", \"x\": 7.839931011199951, \"y\": 5.879883289337158}, {\"place\": \"Praha\", \"country\": \"CZ\", \"x\": 2.73286509513855, \"y\": 7.775964260101318}, {\"place\": \"Jihlava\", \"country\": \"CZ\", \"x\": 0.37897130846977234, \"y\": 5.967297077178955}, {\"place\": \"Trencin\", \"country\": \"SK\", \"x\": -5.231619358062744, \"y\": 6.209312915802002}, {\"place\": \"Pre\\u0161ov\", \"country\": \"SK\", \"x\": -6.544747829437256, \"y\": 6.006209850311279}, {\"place\": \"Ko\\u0161ice\", \"country\": \"SK\", \"x\": -8.136316299438477, \"y\": 4.441039562225342}, {\"place\": \"Vy\\u0161n\\u00e9 Nemeck\\u00e9\", \"country\": \"SK\", \"x\": -9.465767860412598, \"y\": 4.416624546051025}, {\"place\": \"U\\u017egorod\", \"country\": \"UA\", \"x\": -10.788451194763184, \"y\": 5.171792984008789}, {\"place\": \"Leipzig\", \"country\": \"D\", \"x\": 11.677210807800293, \"y\": 11.847968101501465}, {\"place\": \"Hirschberg\", \"country\": \"D\", \"x\": 11.22857666015625, \"y\": 9.885640144348145}, {\"place\": \"Hof\", \"country\": \"D\", \"x\": 10.762214660644531, \"y\": 8.825319290161133}, {\"place\": \"Courtenay\", \"country\": \"F\", \"x\": 33.02198028564453, \"y\": -2.7195279598236084}, {\"place\": \"Remiremont\", \"country\": \"F\", \"x\": 23.375009536743164, \"y\": -1.2111339569091797}, {\"place\": \"Appenweier\", \"country\": \"D\", \"x\": 22.357725143432617, \"y\": 1.7813180685043335}, {\"place\": \"Bayerisch Eisenstein\", \"country\": \"D\", \"x\": 7.42196798324585, \"y\": 3.993227243423462}, {\"place\": \"Deggendorf\", \"country\": \"D\", \"x\": 8.556072235107422, \"y\": 2.577070951461792}, {\"place\": \"Memmingen\", \"country\": \"D\", \"x\": -4.969655990600586, \"y\": -27.64605140686035}, {\"place\": \"Garmisch-Partenkirchen\", \"country\": \"D\", \"x\": 10.136371612548828, \"y\": -0.04283101111650467}, {\"place\": \"Mittenwald\", \"country\": \"D\", \"x\": 10.828756332397461, \"y\": -1.2326091527938843}, {\"place\": \"Seefeld in Tirol\", \"country\": \"A\", \"x\": 11.20874309539795, \"y\": -2.700596570968628}, {\"place\": \"Chaumont\", \"country\": \"F\", \"x\": 32.71268844604492, \"y\": 0.7096269130706787}, {\"place\": \"Waldshut\", \"country\": \"D\", \"x\": 19.309246063232422, \"y\": 0.04502010717988014}, {\"place\": \"Nyk\\u00f8bing Falster\", \"country\": \"DK\", \"x\": -0.6444342136383057, \"y\": 39.80204391479492}, {\"place\": \"Gedser\", \"country\": \"DK\", \"x\": 0.40777167677879333, \"y\": 39.62179183959961}, {\"place\": \"T\\u00e1bor\", \"country\": \"CZ\", \"x\": 3.0704572200775146, \"y\": 6.160796642303467}, {\"place\": \"Doln\\u00ed Dvo\\u0159i\\u0161t\\u011b\", \"country\": \"CZ\", \"x\": 4.156664848327637, \"y\": 3.0633740425109863}, {\"place\": \"Linz\", \"country\": \"A\", \"x\": 4.824151039123535, \"y\": 1.2003628015518188}, {\"place\": \"Salzburg\", \"country\": \"A\", \"x\": 6.848979473114014, \"y\": -1.693725347518921}, {\"place\": \"Villach\", \"country\": \"A\", \"x\": 5.611935615539551, \"y\": -5.513151168823242}, {\"place\": \"Tarvisio\", \"country\": \"I\", \"x\": 5.334036827087402, \"y\": -7.088597297668457}, {\"place\": \"Udine\", \"country\": \"I\", \"x\": 4.987731456756592, \"y\": -8.351219177246094}, {\"place\": \"Palmanova\", \"country\": \"I\", \"x\": 5.199156284332275, \"y\": -9.933176040649414}, {\"place\": \"Ven\\u00e9zia-Mestre\", \"country\": \"I\", \"x\": 10.359320640563965, \"y\": -13.12454605102539}, {\"place\": \"Ravenna\", \"country\": \"I\", \"x\": 11.067586898803711, \"y\": -14.99432373046875}, {\"place\": \"Rimini\", \"country\": \"I\", \"x\": 10.66221809387207, \"y\": -16.728361129760742}, {\"place\": \"Fano\", \"country\": \"I\", \"x\": 10.577640533447266, \"y\": -17.953584671020508}, {\"place\": \"Ancona\", \"country\": \"I\", \"x\": 9.89102840423584, \"y\": -19.15265655517578}, {\"place\": \"Pescara\", \"country\": \"I\", \"x\": 8.946707725524902, \"y\": -20.2970027923584}, {\"place\": \"Canosa di Puglia\", \"country\": \"I\", \"x\": 8.20927906036377, \"y\": -21.959280014038086}, {\"place\": \"Bari\", \"country\": \"I\", \"x\": 7.29054069519043, \"y\": -23.252094268798828}, {\"place\": \"Brindisi\", \"country\": \"I\", \"x\": 6.1679911613464355, \"y\": -24.08115005493164}, {\"place\": \"Igoumen\\u00edtsa\", \"country\": \"GR\", \"x\": -15.034686088562012, \"y\": -21.741809844970703}, {\"place\": \"Pr\\u00e9veza\", \"country\": \"GR\", \"x\": -13.180644035339355, \"y\": -22.102794647216797}, {\"place\": \"Mesol\\u00f3ngi\", \"country\": \"GR\", \"x\": -11.64309310913086, \"y\": -22.211267471313477}, {\"place\": \"R\\u00edo\", \"country\": \"GR\", \"x\": -10.53640365600586, \"y\": -22.072114944458008}, {\"place\": \"P\\u00e1tra\", \"country\": \"GR\", \"x\": -9.482006072998047, \"y\": -22.400245666503906}, {\"place\": \"P\\u00edrgos\", \"country\": \"GR\", \"x\": -8.357057571411133, \"y\": -22.21925926208496}, {\"place\": \"Braunau am Inn\", \"country\": \"A\", \"x\": 8.330580711364746, \"y\": 1.0270756483078003}, {\"place\": \"Wels\", \"country\": \"A\", \"x\": 6.287467002868652, \"y\": 0.503472626209259}, {\"place\": \"Regensburg\", \"country\": \"D\", \"x\": 9.625702857971191, \"y\": 3.6146504878997803}, {\"place\": \"Passau\", \"country\": \"D\", \"x\": 7.280930042266846, \"y\": 1.5101405382156372}, {\"place\": \"Sattledt\", \"country\": \"A\", \"x\": 4.989227294921875, \"y\": -0.5168097615242004}, {\"place\": \"Liezen\", \"country\": \"A\", \"x\": 4.158474922180176, \"y\": -1.6243391036987305}, {\"place\": \"Sankt Michael in Obersteiermark\", \"country\": \"A\", \"x\": 3.2937724590301514, \"y\": -2.5312275886535645}, {\"place\": \"Graz\", \"country\": \"A\", \"x\": 2.426779270172119, \"y\": -4.332170009613037}, {\"place\": \"Maribor\", \"country\": \"SLO\", \"x\": 0.6743080615997314, \"y\": -6.187859058380127}, {\"place\": \"Bratislava\", \"country\": \"SK\", \"x\": -3.4765024185180664, \"y\": 3.7606139183044434}, {\"place\": \"Zvolen\", \"country\": \"SK\", \"x\": -7.076361179351807, \"y\": 3.420969009399414}, {\"place\": \"P\\u00fcsp\\u00f6klad\\u00e1ny\", \"country\": \"H\", \"x\": -10.052839279174805, \"y\": 1.8297466039657593}, {\"place\": \"Nyiregyh\\u00e1za\", \"country\": \"H\", \"x\": -10.690020561218262, \"y\": 2.9724719524383545}, {\"place\": \"\\u010cop\", \"country\": \"UA\", \"x\": -10.80573844909668, \"y\": 3.881678342819214}, {\"place\": \"Bac\\u0103u\", \"country\": \"RO\", \"x\": -23.300565719604492, \"y\": 1.5868927240371704}, {\"place\": \"Bra\\u015fov\", \"country\": \"RO\", \"x\": -22.86903953552246, \"y\": -0.9336172342300415}, {\"place\": \"Dunajsk\\u00e1 Streda\", \"country\": \"SK\", \"x\": -4.39949893951416, \"y\": 3.282155990600586}, {\"place\": \"Medved'ov\", \"country\": \"SK\", \"x\": -5.16873025894165, \"y\": 2.7201709747314453}, {\"place\": \"V\\u00e1m\\u00f3szabadi\", \"country\": \"H\", \"x\": -6.052395820617676, \"y\": 2.2342000007629395}, {\"place\": \"Cluj-Napoca\", \"country\": \"RO\", \"x\": -18.642486572265625, \"y\": 0.08352876454591751}, {\"place\": \"Dej\", \"country\": \"RO\", \"x\": -18.983949661254883, \"y\": 1.507222056388855}, {\"place\": \"Bistri\\u0163a\", \"country\": \"RO\", \"x\": -19.231201171875, \"y\": 2.841230630874634}, {\"place\": \"Wien\", \"country\": \"A\", \"x\": -0.5012065172195435, \"y\": 3.3319554328918457}, {\"place\": \"M\\u0103r\\u0103\\u015fe\\u015fti\", \"country\": \"RO\", \"x\": -24.60803985595703, \"y\": 1.8057273626327515}, {\"place\": \"Tecuci\", \"country\": \"RO\", \"x\": -25.90030860900879, \"y\": 2.726665735244751}, {\"place\": \"Albi\\u0163a\", \"country\": \"RO\", \"x\": -26.78958511352539, \"y\": 3.3168463706970215}, {\"place\": \"Leu\\u0161eny\", \"country\": \"MD\", \"x\": -27.46364402770996, \"y\": 3.9873151779174805}, {\"place\": \"Chi\\u015fin\\u0103u\", \"country\": \"MD\", \"x\": -28.233869552612305, \"y\": 4.499320983886719}, {\"place\": \"Roman\", \"country\": \"RO\", \"x\": -21.24651336669922, \"y\": 2.8045969009399414}, {\"place\": \"Ia\\u015fi\", \"country\": \"RO\", \"x\": -21.631860733032227, \"y\": 3.568204641342163}, {\"place\": \"Spielfeld\", \"country\": \"A\", \"x\": 1.5807980298995972, \"y\": -5.517625331878662}, {\"place\": \"Beaune\", \"country\": \"F\", \"x\": 32.00437927246094, \"y\": -1.911296010017395}, {\"place\": \"Sankt Gallen\", \"country\": \"CH\", \"x\": 17.10137939453125, \"y\": -1.85393488407135}, {\"place\": \"Lauterach\", \"country\": \"A\", \"x\": 14.799806594848633, \"y\": -2.7134642601013184}, {\"place\": \"Feldkirch\", \"country\": \"A\", \"x\": 13.634982109069824, \"y\": -3.0757954120635986}, {\"place\": \"Imst\", \"country\": \"A\", \"x\": 12.465964317321777, \"y\": -3.451634407043457}, {\"place\": \"Nickelsdorf\", \"country\": \"A\", \"x\": -1.9772988557815552, \"y\": 2.2375919818878174}, {\"place\": \"Mosonmagyar\\u00f3v\\u00e1r\", \"country\": \"H\", \"x\": -4.119549751281738, \"y\": 1.0700894594192505}, {\"place\": \"Gy\\u00f6r\", \"country\": \"H\", \"x\": -5.779032230377197, \"y\": 1.4676852226257324}, {\"place\": \"Budapest\", \"country\": \"H\", \"x\": -7.906257629394531, \"y\": 0.9821539521217346}, {\"place\": \"Oradea\", \"country\": \"RO\", \"x\": -18.330778121948242, \"y\": -3.7706778049468994}, {\"place\": \"Turda\", \"country\": \"RO\", \"x\": -19.53661346435547, \"y\": -0.45628905296325684}, {\"place\": \"T\\u00eergu Mure\\u015f\", \"country\": \"RO\", \"x\": -20.943878173828125, \"y\": -0.7548319101333618}, {\"place\": \"Ploie\\u015fti\", \"country\": \"RO\", \"x\": -24.268245697021484, \"y\": -0.9994639158248901}, {\"place\": \"Bucure\\u015fti\", \"country\": \"RO\", \"x\": -25.51336097717285, \"y\": -1.5537961721420288}, {\"place\": \"Urziceni\", \"country\": \"RO\", \"x\": -25.890079498291016, \"y\": 0.002784484764561057}, {\"place\": \"Slobozia\", \"country\": \"RO\", \"x\": -27.38498306274414, \"y\": 0.19448469579219818}, {\"place\": \"H\\u00eer\\u015fova\", \"country\": \"RO\", \"x\": -28.391464233398438, \"y\": 0.3877558410167694}, {\"place\": \"Niort\", \"country\": \"F\", \"x\": 38.18342971801758, \"y\": -5.176258563995361}, {\"place\": \"La Rochelle\", \"country\": \"F\", \"x\": 37.542205810546875, \"y\": -5.347687721252441}, {\"place\": \"Saintes\", \"country\": \"F\", \"x\": 37.59036636352539, \"y\": -6.5490288734436035}, {\"place\": \"Angoul\\u00e8me\", \"country\": \"F\", \"x\": 36.98038864135742, \"y\": -7.846563339233398}, {\"place\": \"Digoin\", \"country\": \"F\", \"x\": -21.43577003479004, \"y\": -36.027591705322266}, {\"place\": \"Karawanken Tunnel\", \"country\": \"A\", \"x\": 4.714208602905273, \"y\": -6.309088706970215}, {\"place\": \"Predor Karavanke\", \"country\": \"SLO\", \"x\": 3.8449103832244873, \"y\": -7.397423267364502}, {\"place\": \"Naklo\", \"country\": \"SLO\", \"x\": 2.6271047592163086, \"y\": -7.536043167114258}, {\"place\": \"Ljubljana\", \"country\": \"SLO\", \"x\": 1.181584119796753, \"y\": -7.817270755767822}, {\"place\": \"Trieste\", \"country\": \"I\", \"x\": 1.9729924201965332, \"y\": -9.017839431762695}, {\"place\": \"M\\u00e2con\", \"country\": \"F\", \"x\": 30.28473472595215, \"y\": -5.196310043334961}, {\"place\": \"Sion\", \"country\": \"CH\", \"x\": 23.263242721557617, \"y\": -7.748979091644287}, {\"place\": \"Simplon\", \"country\": \"CH\", \"x\": 22.45954132080078, \"y\": -8.779454231262207}, {\"place\": \"Gravellona Toce\", \"country\": \"I\", \"x\": 21.828481674194336, \"y\": -9.621075630187988}, {\"place\": \"Tortona\", \"country\": \"I\", \"x\": 21.20769691467285, \"y\": -12.449871063232422}, {\"place\": \"Sodankyl\\u00e4\", \"country\": \"FIN\", \"x\": -23.55019187927246, \"y\": 26.995548248291016}, {\"place\": \"Kemij\\u00e4rvi\", \"country\": \"FIN\", \"x\": -23.417142868041992, \"y\": 25.963088989257812}, {\"place\": \"Kuusamo\", \"country\": \"FIN\", \"x\": -22.718547821044922, \"y\": 25.473060607910156}, {\"place\": \"Kajaani\", \"country\": \"FIN\", \"x\": -21.78457260131836, \"y\": 25.229808807373047}, {\"place\": \"Kuopio\", \"country\": \"FIN\", \"x\": -20.79842185974121, \"y\": 25.28487205505371}, {\"place\": \"Jyv\\u00e4skyl\\u00e4\", \"country\": \"FIN\", \"x\": -19.677330017089844, \"y\": 25.531234741210938}, {\"place\": \"Torino\", \"country\": \"I\", \"x\": 24.919784545898438, \"y\": -11.711823463439941}, {\"place\": \"Sankt Johann in Tirol\", \"country\": \"A\", \"x\": 8.983712196350098, \"y\": -2.666041374206543}, {\"place\": \"Lofer\", \"country\": \"A\", \"x\": 8.097900390625, \"y\": -2.1108458042144775}, {\"place\": \"Ystad\", \"country\": \"S\", \"x\": -7.675906658172607, \"y\": 36.91606140136719}, {\"place\": \"\\u015awinouj\\u015bcie\", \"country\": \"PL\", \"x\": 2.0987465381622314, \"y\": 34.132057189941406}, {\"place\": \"Wolin\", \"country\": \"PL\", \"x\": 2.6972103118896484, \"y\": 34.51204299926758}, {\"place\": \"Jelenia G\\u00f3ra\", \"country\": \"PL\", \"x\": 6.055462837219238, \"y\": 35.26913833618164}, {\"place\": \"Harrachov\", \"country\": \"CZ\", \"x\": 6.659024715423584, \"y\": 34.82902908325195}, {\"place\": \"Zelezn\\u00fd Brod\", \"country\": \"CZ\", \"x\": 2.0463478565216064, \"y\": 10.453536033630371}, {\"place\": \"Mlad\\u00e1 Boleslav\", \"country\": \"CZ\", \"x\": 2.5198352336883545, \"y\": 8.944668769836426}, {\"place\": \"B\\u0159eclav\", \"country\": \"CZ\", \"x\": -2.7658536434173584, \"y\": 4.75543737411499}, {\"place\": \"Rajka\", \"country\": \"H\", \"x\": -3.8669955730438232, \"y\": 2.2490103244781494}, {\"place\": \"Csorna\", \"country\": \"H\", \"x\": -4.118152618408203, \"y\": -0.64404296875}, {\"place\": \"Szombathely\", \"country\": \"H\", \"x\": -4.149203777313232, \"y\": -1.6046416759490967}, {\"place\": \"K\\u00f6rmend\", \"country\": \"H\", \"x\": -4.389161586761475, \"y\": -2.5465779304504395}, {\"place\": \"Zalaegerszeg\", \"country\": \"H\", \"x\": -4.800976753234863, \"y\": -3.424168825149536}, {\"place\": \"Nagykanizsa\", \"country\": \"H\", \"x\": -5.706905841827393, \"y\": -4.196105003356934}, {\"place\": \"Letenye\", \"country\": \"H\", \"x\": -5.299123764038086, \"y\": -4.842854022979736}, {\"place\": \"Zagreb\", \"country\": \"HR\", \"x\": -5.1884636878967285, \"y\": -6.371161460876465}, {\"place\": \"Karlovac\", \"country\": \"HR\", \"x\": -18.068950653076172, \"y\": -25.95813751220703}, {\"place\": \"Rijeka\", \"country\": \"HR\", \"x\": -18.468120574951172, \"y\": -27.267210006713867}, {\"place\": \"Split\", \"country\": \"HR\", \"x\": -19.292316436767578, \"y\": -25.835662841796875}, {\"place\": \"Metkovi\\u0107\", \"country\": \"HR\", \"x\": -19.622875213623047, \"y\": -24.50909423828125}, {\"place\": \"Dubrovnik\", \"country\": \"HR\", \"x\": -19.30810546875, \"y\": -22.800363540649414}, {\"place\": \"Petrovac\", \"country\": \"YU\", \"x\": -19.799049377441406, \"y\": -21.14258575439453}, {\"place\": \"Podgorica\", \"country\": \"YU\", \"x\": -20.726131439208984, \"y\": -20.531482696533203}, {\"place\": \"Bijelo Polje\", \"country\": \"YU\", \"x\": -22.334794998168945, \"y\": -17.57741355895996}, {\"place\": \"Skopje\", \"country\": \"MK\", \"x\": -22.850889205932617, \"y\": -15.598681449890137}, {\"place\": \"Kicevo\", \"country\": \"MK\", \"x\": -21.659334182739258, \"y\": -16.33202362060547}, {\"place\": \"Ohrid\", \"country\": \"MK\", \"x\": -20.12622833251953, \"y\": -17.079734802246094}, {\"place\": \"Bitola\", \"country\": \"MK\", \"x\": -18.902877807617188, \"y\": -16.57634925842285}, {\"place\": \"N\\u00edki\", \"country\": \"GR\", \"x\": -18.001279830932617, \"y\": -16.31488037109375}, {\"place\": \"V\\u00e9vi\", \"country\": \"GR\", \"x\": -17.041217803955078, \"y\": -16.620132446289062}, {\"place\": \"Koz\\u00e1ni\", \"country\": \"GR\", \"x\": -15.620633125305176, \"y\": -17.983612060546875}, {\"place\": \"L\\u00e1rissa\", \"country\": \"GR\", \"x\": -13.826297760009766, \"y\": -17.33295440673828}, {\"place\": \"Domok\\u00f3s\", \"country\": \"GR\", \"x\": -12.811373710632324, \"y\": -17.66126823425293}, {\"place\": \"Lam\\u00eda\", \"country\": \"GR\", \"x\": -11.166425704956055, \"y\": -17.708694458007812}, {\"place\": \"Br\\u00e1los\", \"country\": \"GR\", \"x\": -10.722126960754395, \"y\": -18.948650360107422}, {\"place\": \"It\\u00e9a\", \"country\": \"GR\", \"x\": -10.558351516723633, \"y\": -19.930152893066406}, {\"place\": \"Antirrio\", \"country\": \"GR\", \"x\": -10.48320484161377, \"y\": -20.927764892578125}, {\"place\": \"\\u00c9gio\", \"country\": \"GR\", \"x\": -9.436890602111816, \"y\": -21.375289916992188}, {\"place\": \"Korinthos\", \"country\": \"GR\", \"x\": -8.462697982788086, \"y\": -20.908533096313477}, {\"place\": \"Tr\\u00edpoli\", \"country\": \"GR\", \"x\": -7.243020534515381, \"y\": -22.06056022644043}, {\"place\": \"Kal\\u00e1mata\", \"country\": \"GR\", \"x\": -7.404104709625244, \"y\": -21.14179229736328}, {\"place\": \"Kiss\\u00e1mos\", \"country\": \"GR\", \"x\": -6.951879501342773, \"y\": -20.046146392822266}, {\"place\": \"Altenmarkt im Pongau\", \"country\": \"A\", \"x\": 3.864989757537842, \"y\": -1.0066280364990234}, {\"place\": \"Klagenfurt\", \"country\": \"A\", \"x\": 3.751384735107422, \"y\": -5.077630519866943}, {\"place\": \"Loibl Pass\", \"country\": \"A\", \"x\": 3.121307611465454, \"y\": -6.134801387786865}, {\"place\": \"San Candido\", \"country\": \"I\", \"x\": 8.05778980255127, \"y\": -7.191940784454346}, {\"place\": \"Spittal an der Drau\", \"country\": \"A\", \"x\": 6.6467366218566895, \"y\": -6.449721336364746}, {\"place\": \"Veszpr\\u00e9m\", \"country\": \"H\", \"x\": 1.7730355262756348, \"y\": -3.6621809005737305}, {\"place\": \"Balatonkereszt\\u00far\", \"country\": \"H\", \"x\": -23.425790786743164, \"y\": -30.382705688476562}, {\"place\": \"Nagyat\\u00e1d\", \"country\": \"H\", \"x\": -24.036285400390625, \"y\": -30.13771629333496}, {\"place\": \"Barcs\", \"country\": \"H\", \"x\": -23.993833541870117, \"y\": -29.5128116607666}, {\"place\": \"Virovitica\", \"country\": \"HR\", \"x\": -23.182214736938477, \"y\": -29.546804428100586}, {\"place\": \"Oku\\u010dani\", \"country\": \"HR\", \"x\": -23.12137222290039, \"y\": -28.703006744384766}, {\"place\": \"Banja Luka\", \"country\": \"BIH\", \"x\": -22.535558700561523, \"y\": -27.92002296447754}, {\"place\": \"Jajce\", \"country\": \"BIH\", \"x\": -22.019256591796875, \"y\": -26.862464904785156}, {\"place\": \"Donji Vakuf\", \"country\": \"BIH\", \"x\": -22.08771514892578, \"y\": -25.741514205932617}, {\"place\": \"Subotica\", \"country\": \"YU\", \"x\": -10.471444129943848, \"y\": -5.838958263397217}, {\"place\": \"Sombor\", \"country\": \"YU\", \"x\": -10.015763282775879, \"y\": -5.384178638458252}, {\"place\": \"Riga\", \"country\": \"LV\", \"x\": -20.04447364807129, \"y\": 16.772491455078125}, {\"place\": \"Piotrk\\u00f3w Trybunalski\", \"country\": \"PL\", \"x\": -7.741604804992676, \"y\": 14.111602783203125}, {\"place\": \"K\\u0142odzko\", \"country\": \"PL\", \"x\": -1.659957766532898, \"y\": 12.975420951843262}, {\"place\": \"B\\u0115loves\", \"country\": \"CZ\", \"x\": -1.152809977531433, \"y\": 12.382584571838379}, {\"place\": \"N\\u00e1chod\", \"country\": \"CZ\", \"x\": -0.5538921356201172, \"y\": 10.685171127319336}, {\"place\": \"Timi\\u015foara\", \"country\": \"RO\", \"x\": -19.939817428588867, \"y\": -6.720782279968262}, {\"place\": \"Arad\", \"country\": \"RO\", \"x\": -18.951759338378906, \"y\": -5.288964748382568}, {\"place\": \"Lugoj\", \"country\": \"RO\", \"x\": -20.5227108001709, \"y\": -3.4522433280944824}, {\"place\": \"Szeged\", \"country\": \"H\", \"x\": -18.050138473510742, \"y\": -7.28568696975708}, {\"place\": \"Deva\", \"country\": \"RO\", \"x\": -20.167896270751953, \"y\": -4.238831520080566}, {\"place\": \"Sibiu\", \"country\": \"RO\", \"x\": -21.7047176361084, \"y\": -2.4758238792419434}, {\"place\": \"Nordkapp\", \"country\": \"N\", \"x\": -16.07769012451172, \"y\": 33.13098907470703}, {\"place\": \"Oviedo\", \"country\": \"E\", \"x\": 33.15214920043945, \"y\": -20.40073585510254}, {\"place\": \"Bilbao\", \"country\": \"E\", \"x\": 33.850826263427734, \"y\": -19.224885940551758}, {\"place\": \"Chamb\\u00e9ry\", \"country\": \"F\", \"x\": 29.04927635192871, \"y\": -9.470311164855957}, {\"place\": \"Susa\", \"country\": \"I\", \"x\": 26.643999099731445, \"y\": -11.050808906555176}, {\"place\": \"Brescia\", \"country\": \"I\", \"x\": 19.792903900146484, \"y\": -12.38060474395752}, {\"place\": \"\\u0110akovo\", \"country\": \"HR\", \"x\": -9.796199798583984, \"y\": -6.859750270843506}, {\"place\": \"Beograd\", \"country\": \"YU\", \"x\": -18.59009552001953, \"y\": -8.585979461669922}, {\"place\": \"Vrsac\", \"country\": \"YU\", \"x\": -19.306018829345703, \"y\": -7.7891459465026855}, {\"place\": \"Caransebe\\u015f\", \"country\": \"RO\", \"x\": -20.90215301513672, \"y\": -7.451173782348633}, {\"place\": \"Drobeta-Turnu Severin\", \"country\": \"RO\", \"x\": -22.412904739379883, \"y\": -8.43796443939209}, {\"place\": \"Craiova\", \"country\": \"RO\", \"x\": -23.336267471313477, \"y\": -5.923361778259277}, {\"place\": \"Pite\\u015fti\", \"country\": \"RO\", \"x\": -23.296937942504883, \"y\": -2.408001184463501}, {\"place\": \"Giurgiu\", \"country\": \"RO\", \"x\": -27.256650924682617, \"y\": -2.479652166366577}, {\"place\": \"Ruse\", \"country\": \"BG\", \"x\": -28.551254272460938, \"y\": -3.092743396759033}, {\"place\": \"Razgrad\", \"country\": \"BG\", \"x\": -29.7484073638916, \"y\": -2.798224687576294}, {\"place\": \"\\u0160umen\", \"country\": \"BG\", \"x\": -30.864971160888672, \"y\": -2.7017412185668945}, {\"place\": \"Varna\", \"country\": \"BG\", \"x\": -31.25959587097168, \"y\": -0.20204564929008484}, {\"place\": \"Samsun\", \"country\": \"TR\", \"x\": -30.966711044311523, \"y\": 2.790760040283203}, {\"place\": \"Ordu\", \"country\": \"TR\", \"x\": -32.28425216674805, \"y\": 3.9336040019989014}, {\"place\": \"Giresun\", \"country\": \"TR\", \"x\": -33.071495056152344, \"y\": 4.923730373382568}, {\"place\": \"Miskolc\", \"country\": \"H\", \"x\": -8.47591781616211, \"y\": 2.8508479595184326}, {\"place\": \"Balatonaliga\", \"country\": \"H\", \"x\": -6.680782318115234, \"y\": -2.6346559524536133}, {\"place\": \"Biha\\u0107\", \"country\": \"BIH\", \"x\": -20.890043258666992, \"y\": -26.9388484954834}, {\"place\": \"Knin\", \"country\": \"HR\", \"x\": -19.92241668701172, \"y\": -26.58183479309082}, {\"place\": \"Valence\", \"country\": \"F\", \"x\": 31.98666000366211, \"y\": -9.366081237792969}, {\"place\": \"Szeksz\\u00e1rd\", \"country\": \"H\", \"x\": -8.696051597595215, \"y\": -1.6671116352081299}, {\"place\": \"Moh\\u00e1cs\", \"country\": \"H\", \"x\": -9.115598678588867, \"y\": -2.9253647327423096}, {\"place\": \"Osijek\", \"country\": \"HR\", \"x\": -9.379190444946289, \"y\": -5.595900058746338}, {\"place\": \"Bosanski Samac\", \"country\": \"BIH\", \"x\": -21.773292541503906, \"y\": -23.611469268798828}, {\"place\": \"Zenica\", \"country\": \"BIH\", \"x\": -21.86669921875, \"y\": -24.481454849243164}, {\"place\": \"Mostar\", \"country\": \"BIH\", \"x\": -20.451942443847656, \"y\": -24.63248634338379}, {\"place\": \"Nice\", \"country\": \"F\", \"x\": 25.4449462890625, \"y\": -14.694878578186035}, {\"place\": \"Cuneo\", \"country\": \"I\", \"x\": 25.019901275634766, \"y\": -13.930548667907715}, {\"place\": \"Asti\", \"country\": \"I\", \"x\": 24.405405044555664, \"y\": -13.097058296203613}, {\"place\": \"Vard\\u00f8\", \"country\": \"N\", \"x\": -25.225257873535156, \"y\": 26.3682861328125}, {\"place\": \"Utsjoki\", \"country\": \"FIN\", \"x\": -25.02130126953125, \"y\": 27.018478393554688}, {\"place\": \"Ivalo\", \"country\": \"FIN\", \"x\": -24.379364013671875, \"y\": 26.568811416625977}, {\"place\": \"Rovaniemi\", \"country\": \"FIN\", \"x\": -22.475419998168945, \"y\": 27.1235408782959}, {\"place\": \"Kemi\", \"country\": \"FIN\", \"x\": -21.52724266052246, \"y\": 27.861957550048828}, {\"place\": \"Oulu\", \"country\": \"FIN\", \"x\": -20.533084869384766, \"y\": 26.75346565246582}, {\"place\": \"Lahti\", \"country\": \"FIN\", \"x\": -19.147838592529297, \"y\": 24.544221878051758}, {\"place\": \"Gda\\u0144sk\", \"country\": \"PL\", \"x\": -11.084158897399902, \"y\": 17.879940032958984}, {\"place\": \"Kro\\u015bniewice\", \"country\": \"PL\", \"x\": -8.751578330993652, \"y\": 16.30338478088379}, {\"place\": \"\\u0141\\u00f3d\\u017a\", \"country\": \"PL\", \"x\": -8.15174674987793, \"y\": 15.394822120666504}, {\"place\": \"Katowice\", \"country\": \"PL\", \"x\": -5.468921184539795, \"y\": 11.42806339263916}, {\"place\": \"\\u017dilina\", \"country\": \"SK\", \"x\": -3.2858853340148926, \"y\": 6.566412448883057}, {\"place\": \"Ni\\u0161\", \"country\": \"YU\", \"x\": -22.675861358642578, \"y\": -10.813766479492188}, {\"place\": \"Kumanovo\", \"country\": \"MK\", \"x\": -23.41327476501465, \"y\": -12.523194313049316}, {\"place\": \"Gevgelija\", \"country\": \"MK\", \"x\": -23.867328643798828, \"y\": -14.822609901428223}, {\"place\": \"\\u00c9vzoni\", \"country\": \"GR\", \"x\": -24.990596771240234, \"y\": -14.760918617248535}, {\"place\": \"Thessalon\\u00edki\", \"country\": \"GR\", \"x\": -26.503000259399414, \"y\": -14.651697158813477}, {\"place\": \"Almir\\u00f3s\", \"country\": \"GR\", \"x\": -12.373300552368164, \"y\": -17.10186004638672}, {\"place\": \"Ath\\u00edna\", \"country\": \"GR\", \"x\": -8.646121978759766, \"y\": -19.14888572692871}, {\"place\": \"Chani\\u00e1\", \"country\": \"GR\", \"x\": -7.432401657104492, \"y\": -19.16118621826172}, {\"place\": \"Ir\\u00e1klio\", \"country\": \"GR\", \"x\": -6.556465148925781, \"y\": -18.899879455566406}, {\"place\": \"\\u00c1gios Nik\\u00f3laos\", \"country\": \"GR\", \"x\": -5.779999256134033, \"y\": -19.047706604003906}, {\"place\": \"Pula\", \"country\": \"HR\", \"x\": -17.540273666381836, \"y\": -27.477025985717773}, {\"place\": \"Migliarino\", \"country\": \"I\", \"x\": 15.649906158447266, \"y\": -16.322677612304688}, {\"place\": \"Sarajevo\", \"country\": \"BIH\", \"x\": -21.914562225341797, \"y\": -22.07648468017578}, {\"place\": \"U\\u017eice\", \"country\": \"YU\", \"x\": -23.273340225219727, \"y\": -21.061309814453125}, {\"place\": \"\\u010ca\\u010dak\", \"country\": \"YU\", \"x\": -24.256654739379883, \"y\": -20.00092315673828}, {\"place\": \"Kraljevo\", \"country\": \"YU\", \"x\": -25.22043228149414, \"y\": -20.31428337097168}, {\"place\": \"Kru\\u0161evac\", \"country\": \"YU\", \"x\": -25.778200149536133, \"y\": -20.872451782226562}, {\"place\": \"Pojate\", \"country\": \"YU\", \"x\": -26.60317039489746, \"y\": -20.760051727294922}, {\"place\": \"Para\\u0107in\", \"country\": \"YU\", \"x\": -26.743009567260742, \"y\": -21.48678207397461}, {\"place\": \"Nova Varos\", \"country\": \"YU\", \"x\": -23.86001205444336, \"y\": -18.821367263793945}, {\"place\": \"Elblag\", \"country\": \"PL\", \"x\": -11.210410118103027, \"y\": 16.015138626098633}, {\"place\": \"Trsten\\u00e1\", \"country\": \"SK\", \"x\": -9.300575256347656, \"y\": 7.9312968254089355}, {\"place\": \"Ru\\u017eomberok\", \"country\": \"SK\", \"x\": -8.849748611450195, \"y\": 6.777268886566162}, {\"place\": \"Jablanica\", \"country\": \"BG\", \"x\": -28.95838737487793, \"y\": -5.742617130279541}, {\"place\": \"Veliko Tarnovo\", \"country\": \"BG\", \"x\": -30.169239044189453, \"y\": -4.250269889831543}, {\"place\": \"Popovica\", \"country\": \"BG\", \"x\": -32.0058479309082, \"y\": -5.858601093292236}, {\"place\": \"Stara Zagora\", \"country\": \"BG\", \"x\": -31.411245346069336, \"y\": -5.314894199371338}, {\"place\": \"Grosseto\", \"country\": \"I\", \"x\": 13.749881744384766, \"y\": -18.76079750061035}, {\"place\": \"Sansepolcro\", \"country\": \"I\", \"x\": 12.22311019897461, \"y\": -18.307292938232422}, {\"place\": \"Beius\", \"country\": \"RO\", \"x\": -19.425247192382812, \"y\": -3.5621798038482666}, {\"place\": \"Petro\\u015fani\", \"country\": \"RO\", \"x\": -21.3002872467041, \"y\": -4.511202335357666}, {\"place\": \"Tirgu Jiu\", \"country\": \"RO\", \"x\": -22.287317276000977, \"y\": -5.284273624420166}, {\"place\": \"Calafat\", \"country\": \"RO\", \"x\": -24.102602005004883, \"y\": -6.736417770385742}, {\"place\": \"Vidin\", \"country\": \"BG\", \"x\": -24.8392391204834, \"y\": -7.562251567840576}, {\"place\": \"Vraca\", \"country\": \"BG\", \"x\": -25.501184463500977, \"y\": -8.407048225402832}, {\"place\": \"Botevgrad\", \"country\": \"BG\", \"x\": -26.42784309387207, \"y\": -9.35251235961914}, {\"place\": \"Sofia\", \"country\": \"BG\", \"x\": -25.74863052368164, \"y\": -10.81714916229248}, {\"place\": \"Blagoevgrad\", \"country\": \"BG\", \"x\": -26.41487693786621, \"y\": -12.575906753540039}, {\"place\": \"S\\u00e9res\", \"country\": \"GR\", \"x\": -26.408960342407227, \"y\": -13.431268692016602}, {\"place\": \"Santarem\", \"country\": \"P\", \"x\": 40.053226470947266, \"y\": -28.551427841186523}, {\"place\": \"Leiria\", \"country\": \"P\", \"x\": 39.10409164428711, \"y\": -28.891706466674805}, {\"place\": \"Viseu\", \"country\": \"P\", \"x\": 36.43596649169922, \"y\": -28.258872985839844}, {\"place\": \"Guarda\", \"country\": \"P\", \"x\": 35.875877380371094, \"y\": -27.087312698364258}, {\"place\": \"Vilar Formoso\", \"country\": \"P\", \"x\": 36.828529357910156, \"y\": -22.565935134887695}, {\"place\": \"Salamanca\", \"country\": \"E\", \"x\": 37.162723541259766, \"y\": -21.36724090576172}, {\"place\": \"N\\u00eemes\", \"country\": \"F\", \"x\": 27.644546508789062, \"y\": -14.788836479187012}, {\"place\": \"Aix-en-Provence\", \"country\": \"F\", \"x\": 26.73251724243164, \"y\": -14.762168884277344}, {\"place\": \"Ventimiglia\", \"country\": \"I\", \"x\": 24.033916473388672, \"y\": -14.241842269897461}, {\"place\": \"Savona\", \"country\": \"I\", \"x\": 23.316993713378906, \"y\": -13.185115814208984}, {\"place\": \"Genova\", \"country\": \"I\", \"x\": 21.88120460510254, \"y\": -13.467081069946289}, {\"place\": \"La Spezia\", \"country\": \"I\", \"x\": 16.996335983276367, \"y\": -15.39266586303711}, {\"place\": \"Livorno\", \"country\": \"I\", \"x\": 14.543621063232422, \"y\": -17.67740249633789}, {\"place\": \"Roma\", \"country\": \"I\", \"x\": 12.5087251663208, \"y\": -19.63593101501465}, {\"place\": \"Pri\\u0161tina\", \"country\": \"YU\", \"x\": -21.33586311340332, \"y\": -19.038198471069336}, {\"place\": \"Dimitrovgrad\", \"country\": \"YU\", \"x\": -23.955970764160156, \"y\": -10.627421379089355}, {\"place\": \"Plovdiv\", \"country\": \"BG\", \"x\": -29.721166610717773, \"y\": -9.57619857788086}, {\"place\": \"Svilengrad\", \"country\": \"BG\", \"x\": -31.431472778320312, \"y\": -9.382698059082031}, {\"place\": \"Edirne\", \"country\": \"TR\", \"x\": -33.041316986083984, \"y\": -9.269689559936523}, {\"place\": \"Babaeski\", \"country\": \"TR\", \"x\": -34.208518981933594, \"y\": -9.139974594116211}, {\"place\": \"Silivri\", \"country\": \"TR\", \"x\": -35.655765533447266, \"y\": -9.244577407836914}, {\"place\": \"Istanbul\", \"country\": \"TR\", \"x\": -36.664066314697266, \"y\": -8.45409107208252}, {\"place\": \"Izmit\", \"country\": \"TR\", \"x\": -37.67196273803711, \"y\": -7.9977617263793945}, {\"place\": \"Adapazari\", \"country\": \"TR\", \"x\": -39.12030029296875, \"y\": -7.288519382476807}, {\"place\": \"Bolu\", \"country\": \"TR\", \"x\": -40.17380905151367, \"y\": -6.707513809204102}, {\"place\": \"Gerede\", \"country\": \"TR\", \"x\": -41.034523010253906, \"y\": -6.710085868835449}, {\"place\": \"Ilgaz\", \"country\": \"TR\", \"x\": -41.66180419921875, \"y\": -5.840814590454102}, {\"place\": \"Amasya\", \"country\": \"TR\", \"x\": -42.056129455566406, \"y\": -5.151811122894287}, {\"place\": \"Niksar\", \"country\": \"TR\", \"x\": -42.60400390625, \"y\": -4.639143466949463}, {\"place\": \"Refahiye\", \"country\": \"TR\", \"x\": -43.49209976196289, \"y\": -4.825357913970947}, {\"place\": \"Erzincan\", \"country\": \"TR\", \"x\": -36.41194152832031, \"y\": 6.699635982513428}, {\"place\": \"Askale\", \"country\": \"TR\", \"x\": -35.51919174194336, \"y\": 7.403493881225586}, {\"place\": \"Erzurum\", \"country\": \"TR\", \"x\": -35.96377944946289, \"y\": 8.270784378051758}, {\"place\": \"A\\u011fri\", \"country\": \"TR\", \"x\": -35.620059967041016, \"y\": 8.997108459472656}, {\"place\": \"G\\u00fcrbulak\", \"country\": \"TR\", \"x\": -35.12039566040039, \"y\": 9.902570724487305}, {\"place\": \"Vila Real\", \"country\": \"P\", \"x\": 33.622039794921875, \"y\": -28.04475975036621}, {\"place\": \"Chaves\", \"country\": \"P\", \"x\": 32.8650016784668, \"y\": -29.21859359741211}, {\"place\": \"Bragan\\u00e7a\", \"country\": \"P\", \"x\": 34.89809799194336, \"y\": -28.205167770385742}, {\"place\": \"Castelo Branco\", \"country\": \"P\", \"x\": 36.61962127685547, \"y\": -26.43867301940918}, {\"place\": \"Portalegre\", \"country\": \"P\", \"x\": 37.797706604003906, \"y\": -25.845678329467773}, {\"place\": \"\\u00c9vora\", \"country\": \"P\", \"x\": 39.63420486450195, \"y\": -25.050907135009766}, {\"place\": \"Beja\", \"country\": \"P\", \"x\": 38.817298889160156, \"y\": -24.97870635986328}, {\"place\": \"Merida\", \"country\": \"E\", \"x\": 38.56137466430664, \"y\": -21.142826080322266}, {\"place\": \"Logro\\u00f1o\", \"country\": \"E\", \"x\": 35.27437210083008, \"y\": -18.596797943115234}, {\"place\": \"Famalic\\u00e3o\", \"country\": \"P\", \"x\": 32.21527099609375, \"y\": -29.105318069458008}, {\"place\": \"Torres Novas\", \"country\": \"P\", \"x\": 35.95392990112305, \"y\": -25.231590270996094}, {\"place\": \"Abrantes\", \"country\": \"P\", \"x\": 36.12125015258789, \"y\": -25.674087524414062}, {\"place\": \"Halmeu\", \"country\": \"RO\", \"x\": -16.94424057006836, \"y\": -0.7888551354408264}, {\"place\": \"Satu Mare\", \"country\": \"RO\", \"x\": -17.178518295288086, \"y\": -0.3458382785320282}, {\"place\": \"Zalau\", \"country\": \"RO\", \"x\": -17.99274253845215, \"y\": -0.5531486868858337}, {\"place\": \"Sebe\\u015f\", \"country\": \"RO\", \"x\": -19.645782470703125, \"y\": -1.3406378030776978}, {\"place\": \"Zamora\", \"country\": \"E\", \"x\": 34.93873977661133, \"y\": -29.07451629638672}, {\"place\": \"Bjala\", \"country\": \"BG\", \"x\": -29.089780807495117, \"y\": -4.0707550048828125}, {\"place\": \"Pleven\", \"country\": \"BG\", \"x\": -29.28404998779297, \"y\": -4.992412090301514}, {\"place\": \"Ke\\u015fan\", \"country\": \"TR\", \"x\": -35.7547721862793, \"y\": -11.709131240844727}, {\"place\": \"Tekirdag\", \"country\": \"TR\", \"x\": -36.00665283203125, \"y\": -10.402416229248047}, {\"place\": \"Avellino\", \"country\": \"I\", \"x\": 10.266498565673828, \"y\": -22.7006778717041}, {\"place\": \"Benevento\", \"country\": \"I\", \"x\": 9.191828727722168, \"y\": -22.388935089111328}, {\"place\": \"Spezzano Albanese\", \"country\": \"I\", \"x\": 8.277316093444824, \"y\": -27.28664207458496}, {\"place\": \"Potenza\", \"country\": \"I\", \"x\": 9.183080673217773, \"y\": -25.440038681030273}, {\"place\": \"Sant'Eufemia Lamezia\", \"country\": \"I\", \"x\": 9.798402786254883, \"y\": -28.744586944580078}, {\"place\": \"Lida\", \"country\": \"BY\", \"x\": -18.991178512573242, \"y\": 12.01524543762207}, {\"place\": \"Slonim\", \"country\": \"BY\", \"x\": -19.06786346435547, \"y\": 11.243227005004883}, {\"place\": \"Kobrin\", \"country\": \"BY\", \"x\": -19.154245376586914, \"y\": 8.007817268371582}, {\"place\": \"Luck\", \"country\": \"UA\", \"x\": -19.226991653442383, \"y\": 6.7959818840026855}, {\"place\": \"\\u010cernovcy\", \"country\": \"UA\", \"x\": -19.4110164642334, \"y\": 5.722720623016357}, {\"place\": \"Siret\", \"country\": \"RO\", \"x\": -19.537151336669922, \"y\": 4.850397109985352}, {\"place\": \"Suceava\", \"country\": \"RO\", \"x\": -19.964237213134766, \"y\": 3.9037489891052246}, {\"place\": \"Buz\\u0103u\", \"country\": \"RO\", \"x\": -25.136728286743164, \"y\": 0.8333834409713745}, {\"place\": \"Haskovo\", \"country\": \"BG\", \"x\": -31.692726135253906, \"y\": -7.79733943939209}, {\"place\": \"Orm\\u00e9nio\", \"country\": \"GR\", \"x\": -31.69032859802246, \"y\": -10.499804496765137}, {\"place\": \"Kastanies\", \"country\": \"GR\", \"x\": -31.721179962158203, \"y\": -11.37675952911377}, {\"place\": \"Didimoticho\", \"country\": \"GR\", \"x\": -31.395212173461914, \"y\": -12.534626960754395}, {\"place\": \"*Albania*\", \"country\": \"\\u00a0\", \"x\": -19.390140533447266, \"y\": -19.67063331604004}, {\"place\": \"Prizren\", \"country\": \"YU\", \"x\": -20.58254623413086, \"y\": -19.369352340698242}, {\"place\": \"Io\\u00e1nnina\", \"country\": \"GR\", \"x\": -15.883880615234375, \"y\": -20.572463989257812}, {\"place\": \"Kristalopig\\u00ed\", \"country\": \"GR\", \"x\": -16.699504852294922, \"y\": -15.148404121398926}, {\"place\": \"Fl\\u00f3rina\", \"country\": \"GR\", \"x\": -17.19342041015625, \"y\": -15.486722946166992}, {\"place\": \"Tulcea\", \"country\": \"RO\", \"x\": -30.23504066467285, \"y\": 0.9073613286018372}, {\"place\": \"Constanta\", \"country\": \"RO\", \"x\": -29.770675659179688, \"y\": 0.2888426184654236}, {\"place\": \"Burgas\", \"country\": \"BG\", \"x\": -32.75439453125, \"y\": -4.5019426345825195}, {\"place\": \"Mi\\u010durin\", \"country\": \"BG\", \"x\": -33.60565185546875, \"y\": -5.320131778717041}, {\"place\": \"Malko Tarnovo\", \"country\": \"BG\", \"x\": -34.12854766845703, \"y\": -6.382483959197998}, {\"place\": \"Derek\\u00f6y\", \"country\": \"TR\", \"x\": -34.56398010253906, \"y\": -7.188744068145752}, {\"place\": \"Kirklareli\", \"country\": \"TR\", \"x\": -34.50117874145508, \"y\": -8.03089427947998}, {\"place\": \"Havza\", \"country\": \"TR\", \"x\": -34.827152252197266, \"y\": -10.277942657470703}, {\"place\": \"Gelibolu\", \"country\": \"TR\", \"x\": -37.77586364746094, \"y\": -12.061179161071777}, {\"place\": \"Eceabat\", \"country\": \"TR\", \"x\": -38.891082763671875, \"y\": -12.77987003326416}, {\"place\": \"\\u00c7anakkale\", \"country\": \"TR\", \"x\": -40.36459732055664, \"y\": -13.020181655883789}, {\"place\": \"Ayvalik\", \"country\": \"TR\", \"x\": -41.99409103393555, \"y\": -13.270027160644531}, {\"place\": \"Izmir\", \"country\": \"TR\", \"x\": -43.018699645996094, \"y\": -13.00079345703125}, {\"place\": \"Sel\\u00e7uk\", \"country\": \"TR\", \"x\": -43.72663497924805, \"y\": -13.464468002319336}, {\"place\": \"Aydin\", \"country\": \"TR\", \"x\": -44.6301155090332, \"y\": -13.481324195861816}, {\"place\": \"Denizli\", \"country\": \"TR\", \"x\": -45.01091003417969, \"y\": -14.297208786010742}, {\"place\": \"Acipayam\", \"country\": \"TR\", \"x\": -45.74151611328125, \"y\": -13.824136734008789}, {\"place\": \"Korkuteli\", \"country\": \"TR\", \"x\": -46.14340591430664, \"y\": -14.53731918334961}, {\"place\": \"Kjustendil\", \"country\": \"BG\", \"x\": -24.390914916992188, \"y\": -11.797126770019531}, {\"place\": \"Ankara\", \"country\": \"TR\", \"x\": -42.73714065551758, \"y\": -8.936269760131836}, {\"place\": \"Yozgat\", \"country\": \"TR\", \"x\": -43.37257766723633, \"y\": -7.12907600402832}, {\"place\": \"Sivas\", \"country\": \"TR\", \"x\": -43.51447677612305, \"y\": -6.038064956665039}, {\"place\": \"Kizilcahamam\", \"country\": \"TR\", \"x\": -41.772342681884766, \"y\": -7.655658721923828}, {\"place\": \"Montijo\", \"country\": \"P\", \"x\": 40.59000015258789, \"y\": -27.00520133972168}, {\"place\": \"Caia\", \"country\": \"P\", \"x\": 39.11349105834961, \"y\": -23.72283363342285}, {\"place\": \"Badajoz\", \"country\": \"E\", \"x\": 39.06913375854492, \"y\": -22.849422454833984}, {\"place\": \"Zaragoza\", \"country\": \"E\", \"x\": 36.82193374633789, \"y\": -17.902786254882812}, {\"place\": \"L\\u00e9rida\", \"country\": \"E\", \"x\": 36.79140853881836, \"y\": -16.294462203979492}, {\"place\": \"Mazara del Vallo\", \"country\": \"I\", \"x\": 16.51236915588379, \"y\": -30.418302536010742}, {\"place\": \"Alcamo\", \"country\": \"I\", \"x\": 15.609176635742188, \"y\": -30.893720626831055}, {\"place\": \"Palermo\", \"country\": \"I\", \"x\": 14.539772987365723, \"y\": -31.2955322265625}, {\"place\": \"Buonfornello\", \"country\": \"I\", \"x\": 13.411528587341309, \"y\": -30.969818115234375}, {\"place\": \"Reggio di Calabria\", \"country\": \"I\", \"x\": 11.40967845916748, \"y\": -29.245080947875977}, {\"place\": \"Catanzaro\", \"country\": \"I\", \"x\": 10.47905445098877, \"y\": -29.214101791381836}, {\"place\": \"Crotone\", \"country\": \"I\", \"x\": 10.122560501098633, \"y\": -27.867216110229492}, {\"place\": \"Sibari\", \"country\": \"I\", \"x\": 8.828465461730957, \"y\": -26.944347381591797}, {\"place\": \"Metaponto\", \"country\": \"I\", \"x\": 7.9808478355407715, \"y\": -25.76926612854004}, {\"place\": \"Taranto\", \"country\": \"I\", \"x\": 7.2601470947265625, \"y\": -24.731962203979492}, {\"place\": \"Alexandropo\\u00fali\", \"country\": \"GR\", \"x\": -31.994436264038086, \"y\": -13.383795738220215}, {\"place\": \"Ipsala\", \"country\": \"TR\", \"x\": -33.64073181152344, \"y\": -12.670537948608398}, {\"place\": \"Lapseki\", \"country\": \"TR\", \"x\": -39.42129898071289, \"y\": -11.800209999084473}, {\"place\": \"Bursa\", \"country\": \"TR\", \"x\": -40.2623405456543, \"y\": -11.419836044311523}, {\"place\": \"Eski\\u015fehir\", \"country\": \"TR\", \"x\": -41.04523468017578, \"y\": -10.6453275680542}, {\"place\": \"Sivrihisar\", \"country\": \"TR\", \"x\": -42.3800163269043, \"y\": -10.3722562789917}, {\"place\": \"Aksaray\", \"country\": \"TR\", \"x\": -43.54744338989258, \"y\": -9.354574203491211}, {\"place\": \"Adana\", \"country\": \"TR\", \"x\": -42.42892074584961, \"y\": -20.45096206665039}, {\"place\": \"Toprakkale\", \"country\": \"TR\", \"x\": -42.36512756347656, \"y\": -21.621768951416016}, {\"place\": \"Gazi Antep\", \"country\": \"TR\", \"x\": -43.379615783691406, \"y\": -22.19667625427246}, {\"place\": \"Sanli Urfa\", \"country\": \"TR\", \"x\": -44.150634765625, \"y\": -22.947235107421875}, {\"place\": \"Nusaybin\", \"country\": \"TR\", \"x\": -44.47150802612305, \"y\": -23.882783889770508}, {\"place\": \"Cizre\", \"country\": \"TR\", \"x\": -45.073856353759766, \"y\": -24.31753158569336}, {\"place\": \"Habur\", \"country\": \"TR\", \"x\": -44.47202682495117, \"y\": -24.865863800048828}, {\"place\": \"Ja\\u00e9n\", \"country\": \"E\", \"x\": 23.363082885742188, \"y\": -24.49540901184082}, {\"place\": \"Granada\", \"country\": \"E\", \"x\": 23.584442138671875, \"y\": -24.711538314819336}, {\"place\": \"Iskenderun\", \"country\": \"TR\", \"x\": -41.4485969543457, \"y\": -21.93345832824707}, {\"place\": \"Topbo\\u011fazi\", \"country\": \"TR\", \"x\": -40.53095245361328, \"y\": -22.416065216064453}, {\"place\": \"Antakya\", \"country\": \"TR\", \"x\": -39.77372360229492, \"y\": -21.890268325805664}, {\"place\": \"Yaylada\\u011fi\", \"country\": \"TR\", \"x\": -39.13742446899414, \"y\": -22.24612808227539}, {\"place\": \"Tr\\u00edkala\", \"country\": \"GR\", \"x\": -15.205681800842285, \"y\": -20.06709861755371}, {\"place\": \"Enna\", \"country\": \"I\", \"x\": 13.432398796081543, \"y\": -30.242219924926758}, {\"place\": \"Pskov\", \"country\": \"RUS\", \"x\": -23.572904586791992, \"y\": 15.999288558959961}, {\"place\": \"Gomel'\", \"country\": \"BY\", \"x\": -23.756620407104492, \"y\": 13.4686918258667}, {\"place\": \"Odessa\", \"country\": \"UA\", \"x\": -29.260835647583008, \"y\": 4.5095062255859375}, {\"place\": \"\\u00c1rta\", \"country\": \"GR\", \"x\": -13.79565143585205, \"y\": -21.20110321044922}, {\"place\": \"Agr\\u00ednio\", \"country\": \"GR\", \"x\": -12.601961135864258, \"y\": -21.647201538085938}, {\"place\": \"Aktio\", \"country\": \"GR\", \"x\": -10.490324020385742, \"y\": -15.009570121765137}, {\"place\": \"V\\u00f3nitsa\", \"country\": \"GR\", \"x\": -10.08925724029541, \"y\": -15.361034393310547}, {\"place\": \"Amfiloch\\u00eda\", \"country\": \"GR\", \"x\": -10.608142852783203, \"y\": -15.778112411499023}, {\"place\": \"Karpen\\u00edsi\", \"country\": \"GR\", \"x\": -10.582356452941895, \"y\": -16.593229293823242}, {\"place\": \"Usak\", \"country\": \"TR\", \"x\": -42.9150505065918, \"y\": -11.942925453186035}, {\"place\": \"Afyon\", \"country\": \"TR\", \"x\": -43.084556579589844, \"y\": -11.13037109375}, {\"place\": \"Sp\\u00e1rti\", \"country\": \"GR\", \"x\": -6.550145626068115, \"y\": -22.597227096557617}, {\"place\": \"Elefs\\u00edna\", \"country\": \"GR\", \"x\": 15.228323936462402, \"y\": -9.635698318481445}, {\"place\": \"Krasnodar\", \"country\": \"RUS\", \"x\": -31.13081169128418, \"y\": 9.812541961669922}, {\"place\": \"Novorossijsk\", \"country\": \"RUS\", \"x\": -31.63199806213379, \"y\": 8.971551895141602}, {\"place\": \"So\\u010di\", \"country\": \"RUS\", \"x\": -32.32406234741211, \"y\": 8.16806697845459}, {\"place\": \"Batumi\", \"country\": \"GE\", \"x\": -33.156822204589844, \"y\": 7.344437122344971}, {\"place\": \"Trabzon\", \"country\": \"TR\", \"x\": -33.74500274658203, \"y\": 6.512092113494873}, {\"place\": \"G\\u00fcm\\u00fcshane\", \"country\": \"TR\", \"x\": -34.586669921875, \"y\": 6.829792022705078}, {\"place\": \"Kirikhan\", \"country\": \"TR\", \"x\": -39.8515510559082, \"y\": -23.003246307373047}, {\"place\": \"Reyhanli\", \"country\": \"TR\", \"x\": -39.230255126953125, \"y\": -23.344467163085938}, {\"place\": \"Cilveg\\u00f6z\\u00fc\", \"country\": \"TR\", \"x\": -38.44783020019531, \"y\": -23.332483291625977}, {\"place\": \"Do\\u011fubayazit\", \"country\": \"TR\", \"x\": -47.00760269165039, \"y\": -22.178394317626953}, {\"place\": \"Muradiye\", \"country\": \"TR\", \"x\": -46.746639251708984, \"y\": -21.89210319519043}, {\"place\": \"Bitlis\", \"country\": \"TR\", \"x\": -46.141937255859375, \"y\": -22.369964599609375}, {\"place\": \"Diyarbakir\", \"country\": \"TR\", \"x\": -45.224483489990234, \"y\": -22.53785514831543}, {\"place\": \"Algeciras\", \"country\": \"E\", \"x\": 40.9072265625, \"y\": -19.356369018554688}, {\"place\": \"Jalta\", \"country\": \"UA\", \"x\": -27.7799072265625, \"y\": 8.898457527160645}, {\"place\": \"Montpellier\", \"country\": \"F\", \"x\": 34.12594985961914, \"y\": -9.120406150817871}, {\"place\": \"*Iran*\", \"country\": \"\\u00a0\", \"x\": -34.2836799621582, \"y\": 10.597616195678711}, {\"place\": \"Drammen\", \"country\": \"N\", \"x\": -0.5962594151496887, \"y\": -15.279212951660156}, {\"place\": \"Domb\\u00e5s\", \"country\": \"N\", \"x\": -4.805323600769043, \"y\": 26.34804916381836}, {\"place\": \"Walsrode\", \"country\": \"D\", \"x\": 19.993745803833008, \"y\": 19.800458908081055}, {\"place\": \"Sarreguemines\", \"country\": \"F\", \"x\": 25.34235191345215, \"y\": 5.6847639083862305}, {\"place\": \"Samara\", \"country\": \"RUS\", \"x\": -28.458446502685547, \"y\": 14.148634910583496}, {\"place\": \"Ludwigshafen\", \"country\": \"D\", \"x\": 24.201011657714844, \"y\": 8.506975173950195}, {\"place\": \"Harwich\", \"country\": \"GB\", \"x\": 16.45771026611328, \"y\": 27.716753005981445}, {\"place\": \"Gela\", \"country\": \"I\", \"x\": 15.42730712890625, \"y\": -29.78848648071289}, {\"place\": \"Angers\", \"country\": \"F\", \"x\": 36.136322021484375, \"y\": -0.42451944947242737}, {\"place\": \"Troyes\", \"country\": \"F\", \"x\": 32.414730072021484, \"y\": -2.704376220703125}, {\"place\": \"Donaueschingen\", \"country\": \"D\", \"x\": 21.938230514526367, \"y\": 0.7538620233535767}, {\"place\": \"F\\u00fcssen\", \"country\": \"D\", \"x\": -4.973354339599609, \"y\": -27.637887954711914}, {\"place\": \"Humpolec\", \"country\": \"CZ\", \"x\": 3.2666821479797363, \"y\": 5.125646591186523}, {\"place\": \"\\u017diar nad Hronom\", \"country\": \"SK\", \"x\": -5.0603928565979, \"y\": 5.692564964294434}, {\"place\": \"Sculeni\", \"country\": \"RO\", \"x\": -22.05338478088379, \"y\": 3.4056150913238525}, {\"place\": \"Chalon-sur-Sa\\u00f4ne\", \"country\": \"F\", \"x\": -21.433414459228516, \"y\": -36.02935791015625}, {\"place\": \"Pont-d'Ain\", \"country\": \"F\", \"x\": 31.516468048095703, \"y\": -8.298293113708496}, {\"place\": \"Sz\\u00e9kesfeh\\u00e9rv\\u00e1r\", \"country\": \"H\", \"x\": 1.3185970783233643, \"y\": -4.142584800720215}, {\"place\": \"Grenoble\", \"country\": \"F\", \"x\": 31.613927841186523, \"y\": -9.556469917297363}, {\"place\": \"Marseille\", \"country\": \"F\", \"x\": 30.04940414428711, \"y\": -10.285069465637207}, {\"place\": \"Sit\\u00eda\", \"country\": \"GR\", \"x\": -5.705852508544922, \"y\": -18.45748519897461}, {\"place\": \"Koper\", \"country\": \"SLO\", \"x\": -17.66187286376953, \"y\": -27.992834091186523}, {\"place\": \"Zaj\\u0115car\", \"country\": \"YU\", \"x\": -27.28631591796875, \"y\": -21.16082191467285}, {\"place\": \"Ver\\u00edn\", \"country\": \"E\", \"x\": 32.43138885498047, \"y\": -28.580236434936523}, {\"place\": \"Ourique\", \"country\": \"P\", \"x\": 39.013309478759766, \"y\": -25.568328857421875}, {\"place\": \"Tordesillas\", \"country\": \"E\", \"x\": 34.53034210205078, \"y\": -29.332454681396484}, {\"place\": \"G\\u00e9fira\", \"country\": \"GR\", \"x\": -16.487627029418945, \"y\": -16.117109298706055}, {\"place\": \"Antalya\", \"country\": \"TR\", \"x\": -46.49325180053711, \"y\": -14.048651695251465}, {\"place\": \"*Iraq*\", \"country\": \"\\u00a0\", \"x\": -44.95490264892578, \"y\": -25.205129623413086}, {\"place\": \"M\\u00e1laga\", \"country\": \"E\", \"x\": 23.33656883239746, \"y\": -24.36081314086914}, {\"place\": \"*Syria*\", \"country\": \"\\u00a0\", \"x\": -38.37971496582031, \"y\": -22.566797256469727}, {\"place\": \"V\\u00f3los\", \"country\": \"GR\", \"x\": -14.749497413635254, \"y\": -20.74892234802246}, {\"place\": \"Trapani\", \"country\": \"I\", \"x\": 15.719135284423828, \"y\": -31.60797119140625}, {\"place\": \"Merzifon\", \"country\": \"TR\", \"x\": -31.71294403076172, \"y\": 3.1003079414367676}, {\"place\": \"G\\u00edthio\", \"country\": \"GR\", \"x\": -6.078073978424072, \"y\": -22.169408798217773}, {\"place\": \"Th\\u00edva\", \"country\": \"GR\", \"x\": 15.227182388305664, \"y\": -9.633296012878418}]}}, {\"mode\": \"vega-lite\"});\n",
       "</script>"
      ],
      "text/plain": [
       "alt.Chart(...)"
      ]
     },
     "execution_count": 29,
     "metadata": {},
     "output_type": "execute_result"
    }
   ],
   "source": [
    "chart = alt.Chart(df).mark_circle(size=60).encode(\n",
    "    x='x',\n",
    "    y='y',\n",
    "    color='country',\n",
    "    tooltip=['place', 'country']\n",
    ").properties(width=700, height=400)\n",
    "chart.save('node2vec.json')\n",
    "chart"
   ]
  }
 ],
 "metadata": {
  "kernelspec": {
   "display_name": "Python 3",
   "language": "python",
   "name": "python3"
  },
  "language_info": {
   "codemirror_mode": {
    "name": "ipython",
    "version": 3
   },
   "file_extension": ".py",
   "mimetype": "text/x-python",
   "name": "python",
   "nbconvert_exporter": "python",
   "pygments_lexer": "ipython3",
   "version": "3.7.3"
  }
 },
 "nbformat": 4,
 "nbformat_minor": 4
}
