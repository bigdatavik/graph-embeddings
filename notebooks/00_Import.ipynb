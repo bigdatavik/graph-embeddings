{
 "cells": [
  {
   "cell_type": "markdown",
   "metadata": {},
   "source": [
    "# Importing the European Roads dataset\n",
    "\n",
    "In this notebook we're going to import the European Roads dataset into Neo4j. Let's first import the Neo4j Python driver:"
   ]
  },
  {
   "cell_type": "code",
   "execution_count": 24,
   "metadata": {},
   "outputs": [],
   "source": [
    "from neo4j import GraphDatabase\n",
    "from neo4j.exceptions import ClientError"
   ]
  },
  {
   "cell_type": "markdown",
   "metadata": {},
   "source": [
    "Once we've done that we can initialise the Neo4j driver."
   ]
  },
  {
   "cell_type": "code",
   "execution_count": null,
   "metadata": {},
   "outputs": [],
   "source": [
    "driver = GraphDatabase.driver(\"bolt://localhost\", auth=(\"neo4j\", \"neo\"))"
   ]
  },
  {
   "cell_type": "markdown",
   "metadata": {},
   "source": [
    "## Importing the dataset\n",
    "\n",
    "And now we can import the dataset:"
   ]
  },
  {
   "cell_type": "code",
   "execution_count": 39,
   "metadata": {},
   "outputs": [
    {
     "name": "stdout",
     "output_type": "stream",
     "text": [
      "An equivalent constraint already exists, 'Constraint( UNIQUE, :Place(name) )'.\n"
     ]
    },
    {
     "data": {
      "text/plain": [
       "{'properties_set': 5000}"
      ]
     },
     "metadata": {},
     "output_type": "display_data"
    }
   ],
   "source": [
    "with driver.session(database=\"foo\") as session:\n",
    "    try: \n",
    "        session.run(\"\"\"\n",
    "        CREATE CONSTRAINT ON (p:Place) ASSERT p.name IS UNIQUE;\n",
    "        \"\"\")\n",
    "    except ClientError as ex:\n",
    "        print(ex)\n",
    "        \n",
    "    result = session.run(\"\"\"\n",
    "    USING PERIODIC COMMIT 1000\n",
    "    LOAD CSV WITH HEADERS FROM \"https://github.com/neo4j-examples/graph-embeddings/raw/main/data/roads.csv\"\n",
    "    AS row\n",
    "\n",
    "    MERGE (origin:Place {name: row.origin_reference_place})\n",
    "    SET origin.countryCode = row.origin_country_code\n",
    "\n",
    "    MERGE (destination:Place {name: row.destination_reference_place})\n",
    "    SET destination.countryCode = row.destination_country_code\n",
    "\n",
    "    MERGE (origin)-[eroad:EROAD {number: row.road_number}]->(destination)\n",
    "    SET eroad.distance = toInteger(row.distance), eroad.watercrossing = row.watercrossing;\n",
    "    \"\"\")\n",
    "    display(result.consume().counters)"
   ]
  }
 ],
 "metadata": {
  "kernelspec": {
   "display_name": "Python 3",
   "language": "python",
   "name": "python3"
  },
  "language_info": {
   "codemirror_mode": {
    "name": "ipython",
    "version": 3
   },
   "file_extension": ".py",
   "mimetype": "text/x-python",
   "name": "python",
   "nbconvert_exporter": "python",
   "pygments_lexer": "ipython3",
   "version": "3.7.3"
  }
 },
 "nbformat": 4,
 "nbformat_minor": 4
}
